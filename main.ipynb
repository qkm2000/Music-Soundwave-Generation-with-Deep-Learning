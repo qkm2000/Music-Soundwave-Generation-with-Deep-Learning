{
 "cells": [
  {
   "cell_type": "markdown",
   "metadata": {},
   "source": [
    "# Main\n",
    "\n",
    "This model will take in a valence-arousal vector and a Bouba-Kiki vector. It will then output an encoded earcon representation, which will be passed to the MusicGen Decoder to generate the final earcon.\n",
    "\n",
    "The output of the MusicGen Decoder will then be encoded by EncodecFeatureExtractor, and the vectors will be used to calculate the loss"
   ]
  },
  {
   "cell_type": "markdown",
   "metadata": {},
   "source": [
    "## Dataset"
   ]
  },
  {
   "cell_type": "markdown",
   "metadata": {},
   "source": [
    "Each row in the dataset will consist of:\n",
    "- An Earcon represented by an Encodec vector\n",
    "- An image represented in a Valence Arousal Vector\n",
    "- A Bouba-Kiki Value derived from the image\n",
    "- A Pseudoword\n",
    "\n",
    "The rows will be paired by cosine similarity between the Earcon's Encodec vector and the VA Vector from the image. The Bouba-Kiki Value and Pseudoword will be generated after the images are paired with the audio"
   ]
  },
  {
   "cell_type": "code",
   "execution_count": null,
   "metadata": {},
   "outputs": [],
   "source": [
    "# import relevant libraries\n",
    "import pandas as pd\n",
    "import numpy as np\n",
    "import ast\n",
    "import torch\n",
    "import random\n",
    "\n",
    "\n",
    "random.seed(42)\n",
    "device = \"cuda\" if torch.cuda.is_available() else \"cpu\"\n",
    "pd.set_option('display.max_columns', None)"
   ]
  },
  {
   "cell_type": "markdown",
   "metadata": {},
   "source": [
    "### Earcons"
   ]
  },
  {
   "cell_type": "code",
   "execution_count": null,
   "metadata": {},
   "outputs": [],
   "source": [
    "# load in earcons\n",
    "earcons = pd.read_csv('dataset\\earcon_dataset\\earcon_dataset.csv')\n",
    "\n",
    "earcons['query'] = earcons['query'].apply(ast.literal_eval)\n",
    "earcons[\"query\"] = earcons[\"query\"].apply(lambda x: x[0])\n",
    "\n",
    "earcons = earcons[[\"query\", \"name\"]]\n",
    "\n",
    "earcons[\"filepaths\"] = earcons[\"name\"].apply(lambda x: f\"dataset/earcon_dataset/earcons/{x}\")\n",
    "\n",
    "earcons"
   ]
  },
  {
   "cell_type": "code",
   "execution_count": null,
   "metadata": {},
   "outputs": [],
   "source": [
    "# prep encodec model\n",
    "from encodec import EncodecModel\n",
    "\n",
    "\n",
    "encodec_model = EncodecModel.encodec_model_24khz().to(device)"
   ]
  },
  {
   "cell_type": "code",
   "execution_count": null,
   "metadata": {},
   "outputs": [],
   "source": [
    "import torchaudio\n",
    "\n",
    "\n",
    "def extract_earcon_features(filepaths, encodec_model, target_sample_rate=24000, target_length=512):\n",
    "    earcon_features = []\n",
    "\n",
    "    for path in filepaths:\n",
    "        # load in the audio file\n",
    "        waveform, sample_rate = torchaudio.load(path)\n",
    "        waveform = waveform.to(device)\n",
    "\n",
    "        # if stereo, convert to mono\n",
    "        if waveform.shape[0] > 1:\n",
    "            waveform = torch.mean(waveform, dim=0, keepdim=True).to(device)\n",
    "\n",
    "        # resample if necessary\n",
    "        if sample_rate != target_sample_rate:\n",
    "            resampler = torchaudio.transforms.Resample(sample_rate, target_sample_rate).to(device)\n",
    "            waveform = resampler(waveform).to(device)\n",
    "\n",
    "        # add batch dimension so that the shape is\n",
    "        # [1, 1, num_samples] because encodec\n",
    "        # expects that format\n",
    "        waveform = waveform.unsqueeze(0)\n",
    "\n",
    "        # encode the waveform\n",
    "        with torch.no_grad():\n",
    "            encoded_frames = encodec_model.encode(waveform)\n",
    "            compressed_features = encoded_frames[0][0].to(device)  # Take the first codebook\n",
    "        \n",
    "        # truncate and pad\n",
    "        length = compressed_features.shape[2]\n",
    "        if length > target_length:\n",
    "            compressed_features = compressed_features[:, :, :target_length].to(device)\n",
    "        else:\n",
    "            pad = torch.zeros((compressed_features.shape[0], compressed_features.shape[1], target_length - length)).to(device)\n",
    "            compressed_features = torch.cat((compressed_features, pad), dim=2).to(device)\n",
    "\n",
    "        # remove the first dimension\n",
    "        compressed_features = compressed_features.squeeze(0)\n",
    "        earcon_features.append(compressed_features.to(\"cpu\"))\n",
    "\n",
    "    return earcon_features\n",
    "\n",
    "\n",
    "# Apply the function to all rows in the earcons dataframe\n",
    "earcons[\"earcon_features\"] = extract_earcon_features(earcons[\"filepaths\"], encodec_model)\n",
    "earcons"
   ]
  },
  {
   "cell_type": "code",
   "execution_count": null,
   "metadata": {},
   "outputs": [],
   "source": [
    "earcons[\"earcon_features\"][0].shape"
   ]
  },
  {
   "cell_type": "code",
   "execution_count": null,
   "metadata": {},
   "outputs": [],
   "source": [
    "# find the largest value embedded in the earcon features\n",
    "\n",
    "smallest = 1000000\n",
    "largest = 0\n",
    "for i in range(len(earcons[\"earcon_features\"])):\n",
    "    if largest < int(earcons[\"earcon_features\"][i].max()):\n",
    "        largest = int(earcons[\"earcon_features\"][i].max())\n",
    "    if smallest > int(earcons[\"earcon_features\"][i].min()):\n",
    "        smallest = int(earcons[\"earcon_features\"][i].min())\n",
    "\n",
    "print(largest)\n",
    "print(smallest)"
   ]
  },
  {
   "cell_type": "markdown",
   "metadata": {},
   "source": [
    "### Images"
   ]
  },
  {
   "cell_type": "code",
   "execution_count": null,
   "metadata": {},
   "outputs": [],
   "source": [
    "# load in images\n",
    "images = pd.read_csv('dataset\\landscape1\\csvs\\image_classification.csv')\n",
    "\n",
    "# extract top tag and similarity score\n",
    "images['top_tags'] = images['top_tags'].apply(ast.literal_eval)\n",
    "images[\"top_tags\"] = images[\"top_tags\"].apply(lambda x: x[0])\n",
    "images[\"similarity_scores\"] = images[\"similarity_scores\"].apply(ast.literal_eval)\n",
    "images[\"similarity_scores\"] = images[\"similarity_scores\"].apply(lambda x: x[0])\n",
    "\n",
    "images[\"image_path\"] = images[\"image_path\"].str.lstrip(\"../\")"
   ]
  },
  {
   "cell_type": "code",
   "execution_count": null,
   "metadata": {},
   "outputs": [],
   "source": [
    "\n",
    "# load CLIP model\n",
    "from transformers import CLIPProcessor, CLIPModel\n",
    "from PIL import Image\n",
    "\n",
    "\n",
    "# Function to calculate image vectors\n",
    "def calculate_image_vectors(image_paths, clip_model, clip_processor):\n",
    "    image_features = []\n",
    "    count = 0\n",
    "    for image_path in image_paths:\n",
    "        count += 1\n",
    "        image = clip_processor(images=Image.open(image_path), return_tensors=\"pt\").pixel_values.to(device)\n",
    "        with torch.no_grad():\n",
    "            image = clip_model.get_image_features(image)\n",
    "            image = image.squeeze(0)\n",
    "            image_features.append(image.to(\"cpu\"))\n",
    "        if count % 1000 == 0:\n",
    "            print(f\"Processed {count} images\")\n",
    "    return image_features\n",
    "\n",
    "\n",
    "# Apply the function to the images dataframe\n",
    "clip_model = CLIPModel.from_pretrained(\"openai/clip-vit-base-patch32\").to(device)\n",
    "clip_processor = CLIPProcessor.from_pretrained(\"openai/clip-vit-base-patch32\")\n",
    "\n",
    "images[\"image_features\"] = calculate_image_vectors(images[\"image_path\"].tolist(), clip_model, clip_processor)\n",
    "images"
   ]
  },
  {
   "cell_type": "code",
   "execution_count": null,
   "metadata": {},
   "outputs": [],
   "source": [
    "images[\"image_features\"][0].shape"
   ]
  },
  {
   "cell_type": "markdown",
   "metadata": {},
   "source": [
    "### Calculate Cosine Similarity\n",
    "\n",
    "This will be used to build the dataset for our model"
   ]
  },
  {
   "cell_type": "code",
   "execution_count": null,
   "metadata": {},
   "outputs": [],
   "source": [
    "# calculate the cosine similarity & store in a new df\n",
    "from sklearn.metrics.pairwise import cosine_similarity\n",
    "\n",
    "\n",
    "def compute_torch_cosine_similarity(image_vectors, earcon_vectors):\n",
    "    # Convert to PyTorch tensors\n",
    "    image_tensor = torch.tensor(np.stack(image_vectors))\n",
    "    earcon_tensor = torch.tensor(np.mean(np.stack(earcon_vectors), axis=1)).float()\n",
    "    \n",
    "    # Normalize vectors\n",
    "    image_tensor_norm = image_tensor / image_tensor.norm(dim=1, keepdim=True)\n",
    "    earcon_tensor_norm = earcon_tensor / earcon_tensor.norm(dim=1, keepdim=True)\n",
    "    \n",
    "    # Compute cosine similarity\n",
    "    similarity_matrix = torch.mm(image_tensor_norm, earcon_tensor_norm.t())\n",
    "    \n",
    "    return similarity_matrix.numpy()\n",
    "\n",
    "\n",
    "def process_similarities(images, earcons):\n",
    "    # Compute similarity matrix (using one of the methods above)\n",
    "    similarity_matrix = compute_torch_cosine_similarity(\n",
    "        images['image_features'].tolist(), \n",
    "        earcons['earcon_features'].tolist()\n",
    "    )\n",
    "    \n",
    "    # Find the index of the most similar earcon for each image\n",
    "    most_similar_indices = np.argmax(similarity_matrix, axis=1)\n",
    "    \n",
    "    # Extract the most similar earcon details\n",
    "    result_df = pd.DataFrame({\n",
    "        'split': images['split'],\n",
    "        'earcon_filename': earcons.iloc[most_similar_indices]['name'].values,\n",
    "        'earcon_filepath': earcons.iloc[most_similar_indices]['filepaths'].values,\n",
    "        'earcon_features': earcons.iloc[most_similar_indices]['earcon_features'].values,\n",
    "        'image_filename': images['filename'],\n",
    "        'image_filepath': images['image_path'],\n",
    "        'image_features': images['image_features'],\n",
    "        'image_tag': images['top_tags'],\n",
    "        'image_tag_similarity': images['similarity_scores'],\n",
    "        'similarity_score': similarity_matrix[np.arange(len(most_similar_indices)), most_similar_indices]\n",
    "    })\n",
    "    \n",
    "    return result_df\n",
    "\n",
    "earcon_image_dataset = process_similarities(images, earcons)\n",
    "earcon_image_dataset"
   ]
  },
  {
   "cell_type": "code",
   "execution_count": null,
   "metadata": {},
   "outputs": [],
   "source": [
    "earcon_image_dataset.earcon_filename.value_counts()"
   ]
  },
  {
   "cell_type": "markdown",
   "metadata": {},
   "source": [
    "### Build Pseudowords and Bouba-Kiki value"
   ]
  },
  {
   "cell_type": "code",
   "execution_count": null,
   "metadata": {},
   "outputs": [],
   "source": [
    "import random\n",
    "from joblib import Parallel, delayed\n",
    "import utils.psword_gen as psword_gen\n",
    "import utils.psword_utils as psword_utils\n",
    "\n",
    "\n",
    "def generate_pseudoword_and_bouba_kiki(image_path, sound_dict):\n",
    "    x_values, y_values = psword_utils.process_image(image_path, 50, 150)\n",
    "    weighted_angles, roundness = psword_utils.calculate_weighted_angles_by_edge_length(x_values, y_values)\n",
    "    \n",
    "    random.seed(42)\n",
    "    \n",
    "    psword = psword_gen.pseudoword_generator(\n",
    "        roundness,\n",
    "        len(x_values),\n",
    "        sound_dict=sound_dict\n",
    "    )\n",
    "    \n",
    "    return roundness, psword, weighted_angles\n",
    "\n",
    "# Parallelized function\n",
    "def process_row(row):\n",
    "    return generate_pseudoword_and_bouba_kiki(row['image_filepath'], sound_dict)\n",
    "\n",
    "\n",
    "# sound dict\n",
    "sound_dict = psword_gen.load_sound_mappings('utils/sound_mappings.json')\n",
    "\n",
    "# Parallelize using joblib\n",
    "results = Parallel(n_jobs=-1)(delayed(process_row)(row) for _, row in earcon_image_dataset.iterrows())\n",
    "\n",
    "# Extract and assign results\n",
    "earcon_image_dataset[['roundness', 'pseudoword', 'weighted_angles']] = pd.DataFrame(results, index=earcon_image_dataset.index)\n",
    "\n",
    "earcon_image_dataset"
   ]
  },
  {
   "cell_type": "markdown",
   "metadata": {},
   "source": [
    "### Save to pickle"
   ]
  },
  {
   "cell_type": "code",
   "execution_count": null,
   "metadata": {},
   "outputs": [],
   "source": [
    "earcon_image_dataset.to_pickle('dataset/combined_dataset/earcon_image_dataset2.pkl')"
   ]
  },
  {
   "cell_type": "markdown",
   "metadata": {},
   "source": [
    "## Training"
   ]
  },
  {
   "cell_type": "code",
   "execution_count": 1,
   "metadata": {},
   "outputs": [],
   "source": [
    "# import relevant libraries\n",
    "import pandas as pd\n",
    "import torch\n",
    "import random\n",
    "\n",
    "\n",
    "random.seed(42)\n",
    "device = \"cuda\" if torch.cuda.is_available() else \"cpu\"\n",
    "pd.set_option('display.max_columns', None)"
   ]
  },
  {
   "cell_type": "markdown",
   "metadata": {},
   "source": [
    "### Load from pickle"
   ]
  },
  {
   "cell_type": "code",
   "execution_count": 2,
   "metadata": {},
   "outputs": [
    {
     "data": {
      "text/html": [
       "<div>\n",
       "<style scoped>\n",
       "    .dataframe tbody tr th:only-of-type {\n",
       "        vertical-align: middle;\n",
       "    }\n",
       "\n",
       "    .dataframe tbody tr th {\n",
       "        vertical-align: top;\n",
       "    }\n",
       "\n",
       "    .dataframe thead th {\n",
       "        text-align: right;\n",
       "    }\n",
       "</style>\n",
       "<table border=\"1\" class=\"dataframe\">\n",
       "  <thead>\n",
       "    <tr style=\"text-align: right;\">\n",
       "      <th></th>\n",
       "      <th>split</th>\n",
       "      <th>earcon_filename</th>\n",
       "      <th>earcon_filepath</th>\n",
       "      <th>earcon_features</th>\n",
       "      <th>image_filename</th>\n",
       "      <th>image_filepath</th>\n",
       "      <th>image_features</th>\n",
       "      <th>image_tag</th>\n",
       "      <th>image_tag_similarity</th>\n",
       "      <th>similarity_score</th>\n",
       "      <th>roundness</th>\n",
       "      <th>pseudoword</th>\n",
       "      <th>weighted_angles</th>\n",
       "    </tr>\n",
       "  </thead>\n",
       "  <tbody>\n",
       "    <tr>\n",
       "      <th>0</th>\n",
       "      <td>test</td>\n",
       "      <td>BS_Bend_20.wav</td>\n",
       "      <td>dataset/earcon_dataset/earcons/BS_Bend_20.wav</td>\n",
       "      <td>[[tensor(930.), tensor(534.), tensor(530.), te...</td>\n",
       "      <td>Coast-Test (1).jpeg</td>\n",
       "      <td>dataset/landscape1/Testing Data/Coast\\Coast-Te...</td>\n",
       "      <td>[tensor(0.5427), tensor(-0.2114), tensor(-0.54...</td>\n",
       "      <td>a natural landscape</td>\n",
       "      <td>0.098083</td>\n",
       "      <td>0.059398</td>\n",
       "      <td>0.548406</td>\n",
       "      <td>juxuluji</td>\n",
       "      <td>98.713105</td>\n",
       "    </tr>\n",
       "    <tr>\n",
       "      <th>1</th>\n",
       "      <td>test</td>\n",
       "      <td>Failure_01.wav</td>\n",
       "      <td>dataset/earcon_dataset/earcons/Failure_01.wav</td>\n",
       "      <td>[[tensor(913.), tensor(945.), tensor(530.), te...</td>\n",
       "      <td>Coast-Test (100).jpeg</td>\n",
       "      <td>dataset/landscape1/Testing Data/Coast\\Coast-Te...</td>\n",
       "      <td>[tensor(0.1623), tensor(-0.0117), tensor(-0.17...</td>\n",
       "      <td>a natural landscape</td>\n",
       "      <td>0.120972</td>\n",
       "      <td>0.057352</td>\n",
       "      <td>0.515597</td>\n",
       "      <td>juxulu</td>\n",
       "      <td>92.807444</td>\n",
       "    </tr>\n",
       "    <tr>\n",
       "      <th>2</th>\n",
       "      <td>test</td>\n",
       "      <td>BS_Bend_17.wav</td>\n",
       "      <td>dataset/earcon_dataset/earcons/BS_Bend_17.wav</td>\n",
       "      <td>[[tensor(319.), tensor(698.), tensor(857.), te...</td>\n",
       "      <td>Coast-Test (101).jpeg</td>\n",
       "      <td>dataset/landscape1/Testing Data/Coast\\Coast-Te...</td>\n",
       "      <td>[tensor(0.5334), tensor(-0.1099), tensor(-0.36...</td>\n",
       "      <td>a calm landscape</td>\n",
       "      <td>0.133911</td>\n",
       "      <td>0.072991</td>\n",
       "      <td>0.562980</td>\n",
       "      <td>geleje</td>\n",
       "      <td>101.336326</td>\n",
       "    </tr>\n",
       "    <tr>\n",
       "      <th>3</th>\n",
       "      <td>test</td>\n",
       "      <td>clock.wav</td>\n",
       "      <td>dataset/earcon_dataset/earcons/clock.wav</td>\n",
       "      <td>[[tensor(62.), tensor(62.), tensor(62.), tenso...</td>\n",
       "      <td>Coast-Test (102).jpeg</td>\n",
       "      <td>dataset/landscape1/Testing Data/Coast\\Coast-Te...</td>\n",
       "      <td>[tensor(0.8153), tensor(-0.2710), tensor(0.351...</td>\n",
       "      <td>a bright landscape</td>\n",
       "      <td>0.113892</td>\n",
       "      <td>0.056997</td>\n",
       "      <td>0.533194</td>\n",
       "      <td>juxulu</td>\n",
       "      <td>95.974916</td>\n",
       "    </tr>\n",
       "    <tr>\n",
       "      <th>4</th>\n",
       "      <td>test</td>\n",
       "      <td>Failure_01.wav</td>\n",
       "      <td>dataset/earcon_dataset/earcons/Failure_01.wav</td>\n",
       "      <td>[[tensor(913.), tensor(945.), tensor(530.), te...</td>\n",
       "      <td>Coast-Test (103).jpeg</td>\n",
       "      <td>dataset/landscape1/Testing Data/Coast\\Coast-Te...</td>\n",
       "      <td>[tensor(0.3290), tensor(-0.2365), tensor(-0.14...</td>\n",
       "      <td>a bright landscape</td>\n",
       "      <td>0.127563</td>\n",
       "      <td>0.066242</td>\n",
       "      <td>0.551611</td>\n",
       "      <td>geleje</td>\n",
       "      <td>99.289937</td>\n",
       "    </tr>\n",
       "    <tr>\n",
       "      <th>...</th>\n",
       "      <td>...</td>\n",
       "      <td>...</td>\n",
       "      <td>...</td>\n",
       "      <td>...</td>\n",
       "      <td>...</td>\n",
       "      <td>...</td>\n",
       "      <td>...</td>\n",
       "      <td>...</td>\n",
       "      <td>...</td>\n",
       "      <td>...</td>\n",
       "      <td>...</td>\n",
       "      <td>...</td>\n",
       "      <td>...</td>\n",
       "    </tr>\n",
       "    <tr>\n",
       "      <th>11995</th>\n",
       "      <td>validation</td>\n",
       "      <td>Testeregitar_-_F.wav</td>\n",
       "      <td>dataset/earcon_dataset/earcons/Testeregitar_-_...</td>\n",
       "      <td>[[tensor(834.), tensor(604.), tensor(432.), te...</td>\n",
       "      <td>Mountain-Valid (95).jpeg</td>\n",
       "      <td>dataset/landscape1/Validation Data/Mountain\\Mo...</td>\n",
       "      <td>[tensor(-0.1323), tensor(0.4341), tensor(0.136...</td>\n",
       "      <td>a intense landscape</td>\n",
       "      <td>0.072266</td>\n",
       "      <td>0.040474</td>\n",
       "      <td>0.544531</td>\n",
       "      <td>juxuluji</td>\n",
       "      <td>98.015541</td>\n",
       "    </tr>\n",
       "    <tr>\n",
       "      <th>11996</th>\n",
       "      <td>validation</td>\n",
       "      <td>Anvil_-_Lokomo_A_100_kg_-_Hammer_on_back_1_tim...</td>\n",
       "      <td>dataset/earcon_dataset/earcons/Anvil_-_Lokomo_...</td>\n",
       "      <td>[[tensor(170.), tensor(748.), tensor(748.), te...</td>\n",
       "      <td>Mountain-Valid (96).jpeg</td>\n",
       "      <td>dataset/landscape1/Validation Data/Mountain\\Mo...</td>\n",
       "      <td>[tensor(-0.3210), tensor(0.1672), tensor(0.141...</td>\n",
       "      <td>a complex landscape</td>\n",
       "      <td>0.069275</td>\n",
       "      <td>0.056088</td>\n",
       "      <td>0.512671</td>\n",
       "      <td>juxuluja</td>\n",
       "      <td>92.280799</td>\n",
       "    </tr>\n",
       "    <tr>\n",
       "      <th>11997</th>\n",
       "      <td>validation</td>\n",
       "      <td>Short_Cut-Off_Beep.wav</td>\n",
       "      <td>dataset/earcon_dataset/earcons/Short_Cut-Off_B...</td>\n",
       "      <td>[[tensor(103.), tensor(56.), tensor(0.), tenso...</td>\n",
       "      <td>Mountain-Valid (97).jpeg</td>\n",
       "      <td>dataset/landscape1/Validation Data/Mountain\\Mo...</td>\n",
       "      <td>[tensor(0.3450), tensor(0.3041), tensor(0.0990...</td>\n",
       "      <td>a narrow landscape</td>\n",
       "      <td>0.117004</td>\n",
       "      <td>0.043641</td>\n",
       "      <td>0.532324</td>\n",
       "      <td>juxuluji</td>\n",
       "      <td>95.818241</td>\n",
       "    </tr>\n",
       "    <tr>\n",
       "      <th>11998</th>\n",
       "      <td>validation</td>\n",
       "      <td>BS_Bend_17.wav</td>\n",
       "      <td>dataset/earcon_dataset/earcons/BS_Bend_17.wav</td>\n",
       "      <td>[[tensor(319.), tensor(698.), tensor(857.), te...</td>\n",
       "      <td>Mountain-Valid (98).jpeg</td>\n",
       "      <td>dataset/landscape1/Validation Data/Mountain\\Mo...</td>\n",
       "      <td>[tensor(0.1858), tensor(-0.0550), tensor(-0.14...</td>\n",
       "      <td>a sharp landscape</td>\n",
       "      <td>0.099854</td>\n",
       "      <td>0.048247</td>\n",
       "      <td>0.554051</td>\n",
       "      <td>gelejegi</td>\n",
       "      <td>99.729109</td>\n",
       "    </tr>\n",
       "    <tr>\n",
       "      <th>11999</th>\n",
       "      <td>validation</td>\n",
       "      <td>01530_censore_beep_05s.wav</td>\n",
       "      <td>dataset/earcon_dataset/earcons/01530_censore_b...</td>\n",
       "      <td>[[tensor(1009.), tensor(205.), tensor(606.), t...</td>\n",
       "      <td>Mountain-Valid (99).jpeg</td>\n",
       "      <td>dataset/landscape1/Validation Data/Mountain\\Mo...</td>\n",
       "      <td>[tensor(0.0373), tensor(-0.1407), tensor(-0.11...</td>\n",
       "      <td>a positive landscape</td>\n",
       "      <td>0.071838</td>\n",
       "      <td>0.049314</td>\n",
       "      <td>0.565472</td>\n",
       "      <td>gelejegi</td>\n",
       "      <td>101.785030</td>\n",
       "    </tr>\n",
       "  </tbody>\n",
       "</table>\n",
       "<p>12000 rows × 13 columns</p>\n",
       "</div>"
      ],
      "text/plain": [
       "            split                                    earcon_filename  \\\n",
       "0            test                                     BS_Bend_20.wav   \n",
       "1            test                                     Failure_01.wav   \n",
       "2            test                                     BS_Bend_17.wav   \n",
       "3            test                                          clock.wav   \n",
       "4            test                                     Failure_01.wav   \n",
       "...           ...                                                ...   \n",
       "11995  validation                               Testeregitar_-_F.wav   \n",
       "11996  validation  Anvil_-_Lokomo_A_100_kg_-_Hammer_on_back_1_tim...   \n",
       "11997  validation                             Short_Cut-Off_Beep.wav   \n",
       "11998  validation                                     BS_Bend_17.wav   \n",
       "11999  validation                         01530_censore_beep_05s.wav   \n",
       "\n",
       "                                         earcon_filepath  \\\n",
       "0          dataset/earcon_dataset/earcons/BS_Bend_20.wav   \n",
       "1          dataset/earcon_dataset/earcons/Failure_01.wav   \n",
       "2          dataset/earcon_dataset/earcons/BS_Bend_17.wav   \n",
       "3               dataset/earcon_dataset/earcons/clock.wav   \n",
       "4          dataset/earcon_dataset/earcons/Failure_01.wav   \n",
       "...                                                  ...   \n",
       "11995  dataset/earcon_dataset/earcons/Testeregitar_-_...   \n",
       "11996  dataset/earcon_dataset/earcons/Anvil_-_Lokomo_...   \n",
       "11997  dataset/earcon_dataset/earcons/Short_Cut-Off_B...   \n",
       "11998      dataset/earcon_dataset/earcons/BS_Bend_17.wav   \n",
       "11999  dataset/earcon_dataset/earcons/01530_censore_b...   \n",
       "\n",
       "                                         earcon_features  \\\n",
       "0      [[tensor(930.), tensor(534.), tensor(530.), te...   \n",
       "1      [[tensor(913.), tensor(945.), tensor(530.), te...   \n",
       "2      [[tensor(319.), tensor(698.), tensor(857.), te...   \n",
       "3      [[tensor(62.), tensor(62.), tensor(62.), tenso...   \n",
       "4      [[tensor(913.), tensor(945.), tensor(530.), te...   \n",
       "...                                                  ...   \n",
       "11995  [[tensor(834.), tensor(604.), tensor(432.), te...   \n",
       "11996  [[tensor(170.), tensor(748.), tensor(748.), te...   \n",
       "11997  [[tensor(103.), tensor(56.), tensor(0.), tenso...   \n",
       "11998  [[tensor(319.), tensor(698.), tensor(857.), te...   \n",
       "11999  [[tensor(1009.), tensor(205.), tensor(606.), t...   \n",
       "\n",
       "                 image_filename  \\\n",
       "0           Coast-Test (1).jpeg   \n",
       "1         Coast-Test (100).jpeg   \n",
       "2         Coast-Test (101).jpeg   \n",
       "3         Coast-Test (102).jpeg   \n",
       "4         Coast-Test (103).jpeg   \n",
       "...                         ...   \n",
       "11995  Mountain-Valid (95).jpeg   \n",
       "11996  Mountain-Valid (96).jpeg   \n",
       "11997  Mountain-Valid (97).jpeg   \n",
       "11998  Mountain-Valid (98).jpeg   \n",
       "11999  Mountain-Valid (99).jpeg   \n",
       "\n",
       "                                          image_filepath  \\\n",
       "0      dataset/landscape1/Testing Data/Coast\\Coast-Te...   \n",
       "1      dataset/landscape1/Testing Data/Coast\\Coast-Te...   \n",
       "2      dataset/landscape1/Testing Data/Coast\\Coast-Te...   \n",
       "3      dataset/landscape1/Testing Data/Coast\\Coast-Te...   \n",
       "4      dataset/landscape1/Testing Data/Coast\\Coast-Te...   \n",
       "...                                                  ...   \n",
       "11995  dataset/landscape1/Validation Data/Mountain\\Mo...   \n",
       "11996  dataset/landscape1/Validation Data/Mountain\\Mo...   \n",
       "11997  dataset/landscape1/Validation Data/Mountain\\Mo...   \n",
       "11998  dataset/landscape1/Validation Data/Mountain\\Mo...   \n",
       "11999  dataset/landscape1/Validation Data/Mountain\\Mo...   \n",
       "\n",
       "                                          image_features  \\\n",
       "0      [tensor(0.5427), tensor(-0.2114), tensor(-0.54...   \n",
       "1      [tensor(0.1623), tensor(-0.0117), tensor(-0.17...   \n",
       "2      [tensor(0.5334), tensor(-0.1099), tensor(-0.36...   \n",
       "3      [tensor(0.8153), tensor(-0.2710), tensor(0.351...   \n",
       "4      [tensor(0.3290), tensor(-0.2365), tensor(-0.14...   \n",
       "...                                                  ...   \n",
       "11995  [tensor(-0.1323), tensor(0.4341), tensor(0.136...   \n",
       "11996  [tensor(-0.3210), tensor(0.1672), tensor(0.141...   \n",
       "11997  [tensor(0.3450), tensor(0.3041), tensor(0.0990...   \n",
       "11998  [tensor(0.1858), tensor(-0.0550), tensor(-0.14...   \n",
       "11999  [tensor(0.0373), tensor(-0.1407), tensor(-0.11...   \n",
       "\n",
       "                  image_tag  image_tag_similarity  similarity_score  \\\n",
       "0       a natural landscape              0.098083          0.059398   \n",
       "1       a natural landscape              0.120972          0.057352   \n",
       "2          a calm landscape              0.133911          0.072991   \n",
       "3        a bright landscape              0.113892          0.056997   \n",
       "4        a bright landscape              0.127563          0.066242   \n",
       "...                     ...                   ...               ...   \n",
       "11995   a intense landscape              0.072266          0.040474   \n",
       "11996   a complex landscape              0.069275          0.056088   \n",
       "11997    a narrow landscape              0.117004          0.043641   \n",
       "11998     a sharp landscape              0.099854          0.048247   \n",
       "11999  a positive landscape              0.071838          0.049314   \n",
       "\n",
       "       roundness pseudoword  weighted_angles  \n",
       "0       0.548406   juxuluji        98.713105  \n",
       "1       0.515597     juxulu        92.807444  \n",
       "2       0.562980     geleje       101.336326  \n",
       "3       0.533194     juxulu        95.974916  \n",
       "4       0.551611     geleje        99.289937  \n",
       "...          ...        ...              ...  \n",
       "11995   0.544531   juxuluji        98.015541  \n",
       "11996   0.512671   juxuluja        92.280799  \n",
       "11997   0.532324   juxuluji        95.818241  \n",
       "11998   0.554051   gelejegi        99.729109  \n",
       "11999   0.565472   gelejegi       101.785030  \n",
       "\n",
       "[12000 rows x 13 columns]"
      ]
     },
     "execution_count": 2,
     "metadata": {},
     "output_type": "execute_result"
    }
   ],
   "source": [
    "import pandas as pd\n",
    "\n",
    "earcon_image_dataset = pd.read_pickle('dataset/combined_dataset/earcon_image_dataset2.pkl')\n",
    "earcon_image_dataset"
   ]
  },
  {
   "cell_type": "markdown",
   "metadata": {},
   "source": [
    "### Build Dataloaders"
   ]
  },
  {
   "cell_type": "code",
   "execution_count": 3,
   "metadata": {},
   "outputs": [],
   "source": [
    "# Split the dataset based on the \"split\" column\n",
    "train_df = earcon_image_dataset[earcon_image_dataset['split'] == 'train']\n",
    "train_df = train_df.drop(columns='split')\n",
    "val_df = earcon_image_dataset[earcon_image_dataset['split'] == 'validation']\n",
    "val_df = val_df.drop(columns='split')\n",
    "test_df = earcon_image_dataset[earcon_image_dataset['split'] == 'test']\n",
    "test_df = test_df.drop(columns='split')"
   ]
  },
  {
   "cell_type": "code",
   "execution_count": 4,
   "metadata": {},
   "outputs": [
    {
     "data": {
      "text/plain": [
       "(100, 75, 500)"
      ]
     },
     "execution_count": 4,
     "metadata": {},
     "output_type": "execute_result"
    }
   ],
   "source": [
    "train_df = train_df.sample(frac=0.01, random_state=42)\n",
    "val_df = val_df.sample(frac=0.05, random_state=42)\n",
    "test_df = test_df.sample(frac=1, random_state=42)\n",
    "len(train_df), len(val_df), len(test_df)"
   ]
  },
  {
   "cell_type": "code",
   "execution_count": 5,
   "metadata": {},
   "outputs": [],
   "source": [
    "# Create dataloaders\n",
    "from utils.musicgen_utils import create_earcon_dataloaders\n",
    "train_loader, val_loader, test_loader = create_earcon_dataloaders(train_df, val_df, test_df, batch_size=5, num_workers=0)"
   ]
  },
  {
   "cell_type": "markdown",
   "metadata": {},
   "source": [
    "### Model"
   ]
  },
  {
   "cell_type": "markdown",
   "metadata": {},
   "source": [
    "The model pipeline is as follows:\n",
    "- The Earcon Encodec Vector is the target\n",
    "- The VA Vector and Bouba-Kiki Value will be inputs to the model\n",
    "- The model will output a set of vectors which will be fed to the MusicGen Decoder along with the Pseudoword\n",
    "- The output of MusicGen Decoder will be encoded by Encodec\n",
    "- The output of Encodec will be considered the final output, and loss will be calculated based on the difference between this output and the target Encodec vector from the Earcon"
   ]
  },
  {
   "cell_type": "code",
   "execution_count": 6,
   "metadata": {},
   "outputs": [
    {
     "name": "stderr",
     "output_type": "stream",
     "text": [
      "c:\\Users\\qkm20\\anaconda3\\envs\\fyp\\Lib\\site-packages\\torch\\nn\\utils\\weight_norm.py:134: FutureWarning: `torch.nn.utils.weight_norm` is deprecated in favor of `torch.nn.utils.parametrizations.weight_norm`.\n",
      "  WeightNorm.apply(module, name, dim)\n"
     ]
    }
   ],
   "source": [
    "# init model\n",
    "from utils.musicgen_model import *\n",
    "from utils.musicgen_utils import *\n",
    "\n",
    "\n",
    "model_options = {\n",
    "    \"freeze_musicgen_text_encoder\": False,\n",
    "    \"freeze_musicgen_decoder\": False,\n",
    "    \"freeze_encodec\": True,\n",
    "    \"num_projection_layers\": 2,\n",
    "    \"fusion_hidden_dims\": [256]\n",
    "}\n",
    "\n",
    "model = MultimodalEarconGenerator(\n",
    "    freeze_musicgen_text_encoder=model_options[\"freeze_musicgen_text_encoder\"],\n",
    "    freeze_musicgen_decoder=model_options[\"freeze_musicgen_decoder\"],\n",
    "    freeze_encodec=model_options[\"freeze_encodec\"],\n",
    "    num_projection_layers=model_options[\"num_projection_layers\"],\n",
    "    fusion_hidden_dims=model_options[\"fusion_hidden_dims\"]\n",
    ")"
   ]
  },
  {
   "cell_type": "code",
   "execution_count": 7,
   "metadata": {},
   "outputs": [
    {
     "name": "stdout",
     "output_type": "stream",
     "text": [
      "MultimodalEarconGenerator(\n",
      "  (encodec): EncodecModel(\n",
      "    (encoder): SEANetEncoder(\n",
      "      (model): Sequential(\n",
      "        (0): SConv1d(\n",
      "          (conv): NormConv1d(\n",
      "            (conv): Conv1d(1, 32, kernel_size=(7,), stride=(1,))\n",
      "            (norm): Identity()\n",
      "          )\n",
      "        )\n",
      "        (1): SEANetResnetBlock(\n",
      "          (block): Sequential(\n",
      "            (0): ELU(alpha=1.0)\n",
      "            (1): SConv1d(\n",
      "              (conv): NormConv1d(\n",
      "                (conv): Conv1d(32, 16, kernel_size=(3,), stride=(1,))\n",
      "                (norm): Identity()\n",
      "              )\n",
      "            )\n",
      "            (2): ELU(alpha=1.0)\n",
      "            (3): SConv1d(\n",
      "              (conv): NormConv1d(\n",
      "                (conv): Conv1d(16, 32, kernel_size=(1,), stride=(1,))\n",
      "                (norm): Identity()\n",
      "              )\n",
      "            )\n",
      "          )\n",
      "          (shortcut): SConv1d(\n",
      "            (conv): NormConv1d(\n",
      "              (conv): Conv1d(32, 32, kernel_size=(1,), stride=(1,))\n",
      "              (norm): Identity()\n",
      "            )\n",
      "          )\n",
      "        )\n",
      "        (2): ELU(alpha=1.0)\n",
      "        (3): SConv1d(\n",
      "          (conv): NormConv1d(\n",
      "            (conv): Conv1d(32, 64, kernel_size=(4,), stride=(2,))\n",
      "            (norm): Identity()\n",
      "          )\n",
      "        )\n",
      "        (4): SEANetResnetBlock(\n",
      "          (block): Sequential(\n",
      "            (0): ELU(alpha=1.0)\n",
      "            (1): SConv1d(\n",
      "              (conv): NormConv1d(\n",
      "                (conv): Conv1d(64, 32, kernel_size=(3,), stride=(1,))\n",
      "                (norm): Identity()\n",
      "              )\n",
      "            )\n",
      "            (2): ELU(alpha=1.0)\n",
      "            (3): SConv1d(\n",
      "              (conv): NormConv1d(\n",
      "                (conv): Conv1d(32, 64, kernel_size=(1,), stride=(1,))\n",
      "                (norm): Identity()\n",
      "              )\n",
      "            )\n",
      "          )\n",
      "          (shortcut): SConv1d(\n",
      "            (conv): NormConv1d(\n",
      "              (conv): Conv1d(64, 64, kernel_size=(1,), stride=(1,))\n",
      "              (norm): Identity()\n",
      "            )\n",
      "          )\n",
      "        )\n",
      "        (5): ELU(alpha=1.0)\n",
      "        (6): SConv1d(\n",
      "          (conv): NormConv1d(\n",
      "            (conv): Conv1d(64, 128, kernel_size=(8,), stride=(4,))\n",
      "            (norm): Identity()\n",
      "          )\n",
      "        )\n",
      "        (7): SEANetResnetBlock(\n",
      "          (block): Sequential(\n",
      "            (0): ELU(alpha=1.0)\n",
      "            (1): SConv1d(\n",
      "              (conv): NormConv1d(\n",
      "                (conv): Conv1d(128, 64, kernel_size=(3,), stride=(1,))\n",
      "                (norm): Identity()\n",
      "              )\n",
      "            )\n",
      "            (2): ELU(alpha=1.0)\n",
      "            (3): SConv1d(\n",
      "              (conv): NormConv1d(\n",
      "                (conv): Conv1d(64, 128, kernel_size=(1,), stride=(1,))\n",
      "                (norm): Identity()\n",
      "              )\n",
      "            )\n",
      "          )\n",
      "          (shortcut): SConv1d(\n",
      "            (conv): NormConv1d(\n",
      "              (conv): Conv1d(128, 128, kernel_size=(1,), stride=(1,))\n",
      "              (norm): Identity()\n",
      "            )\n",
      "          )\n",
      "        )\n",
      "        (8): ELU(alpha=1.0)\n",
      "        (9): SConv1d(\n",
      "          (conv): NormConv1d(\n",
      "            (conv): Conv1d(128, 256, kernel_size=(10,), stride=(5,))\n",
      "            (norm): Identity()\n",
      "          )\n",
      "        )\n",
      "        (10): SEANetResnetBlock(\n",
      "          (block): Sequential(\n",
      "            (0): ELU(alpha=1.0)\n",
      "            (1): SConv1d(\n",
      "              (conv): NormConv1d(\n",
      "                (conv): Conv1d(256, 128, kernel_size=(3,), stride=(1,))\n",
      "                (norm): Identity()\n",
      "              )\n",
      "            )\n",
      "            (2): ELU(alpha=1.0)\n",
      "            (3): SConv1d(\n",
      "              (conv): NormConv1d(\n",
      "                (conv): Conv1d(128, 256, kernel_size=(1,), stride=(1,))\n",
      "                (norm): Identity()\n",
      "              )\n",
      "            )\n",
      "          )\n",
      "          (shortcut): SConv1d(\n",
      "            (conv): NormConv1d(\n",
      "              (conv): Conv1d(256, 256, kernel_size=(1,), stride=(1,))\n",
      "              (norm): Identity()\n",
      "            )\n",
      "          )\n",
      "        )\n",
      "        (11): ELU(alpha=1.0)\n",
      "        (12): SConv1d(\n",
      "          (conv): NormConv1d(\n",
      "            (conv): Conv1d(256, 512, kernel_size=(16,), stride=(8,))\n",
      "            (norm): Identity()\n",
      "          )\n",
      "        )\n",
      "        (13): SLSTM(\n",
      "          (lstm): LSTM(512, 512, num_layers=2)\n",
      "        )\n",
      "        (14): ELU(alpha=1.0)\n",
      "        (15): SConv1d(\n",
      "          (conv): NormConv1d(\n",
      "            (conv): Conv1d(512, 128, kernel_size=(7,), stride=(1,))\n",
      "            (norm): Identity()\n",
      "          )\n",
      "        )\n",
      "      )\n",
      "    )\n",
      "    (quantizer): ResidualVectorQuantizer(\n",
      "      (vq): ResidualVectorQuantization(\n",
      "        (layers): ModuleList(\n",
      "          (0-31): 32 x VectorQuantization(\n",
      "            (project_in): Identity()\n",
      "            (project_out): Identity()\n",
      "            (_codebook): EuclideanCodebook()\n",
      "          )\n",
      "        )\n",
      "      )\n",
      "    )\n",
      "    (decoder): SEANetDecoder(\n",
      "      (model): Sequential(\n",
      "        (0): SConv1d(\n",
      "          (conv): NormConv1d(\n",
      "            (conv): Conv1d(128, 512, kernel_size=(7,), stride=(1,))\n",
      "            (norm): Identity()\n",
      "          )\n",
      "        )\n",
      "        (1): SLSTM(\n",
      "          (lstm): LSTM(512, 512, num_layers=2)\n",
      "        )\n",
      "        (2): ELU(alpha=1.0)\n",
      "        (3): SConvTranspose1d(\n",
      "          (convtr): NormConvTranspose1d(\n",
      "            (convtr): ConvTranspose1d(512, 256, kernel_size=(16,), stride=(8,))\n",
      "            (norm): Identity()\n",
      "          )\n",
      "        )\n",
      "        (4): SEANetResnetBlock(\n",
      "          (block): Sequential(\n",
      "            (0): ELU(alpha=1.0)\n",
      "            (1): SConv1d(\n",
      "              (conv): NormConv1d(\n",
      "                (conv): Conv1d(256, 128, kernel_size=(3,), stride=(1,))\n",
      "                (norm): Identity()\n",
      "              )\n",
      "            )\n",
      "            (2): ELU(alpha=1.0)\n",
      "            (3): SConv1d(\n",
      "              (conv): NormConv1d(\n",
      "                (conv): Conv1d(128, 256, kernel_size=(1,), stride=(1,))\n",
      "                (norm): Identity()\n",
      "              )\n",
      "            )\n",
      "          )\n",
      "          (shortcut): SConv1d(\n",
      "            (conv): NormConv1d(\n",
      "              (conv): Conv1d(256, 256, kernel_size=(1,), stride=(1,))\n",
      "              (norm): Identity()\n",
      "            )\n",
      "          )\n",
      "        )\n",
      "        (5): ELU(alpha=1.0)\n",
      "        (6): SConvTranspose1d(\n",
      "          (convtr): NormConvTranspose1d(\n",
      "            (convtr): ConvTranspose1d(256, 128, kernel_size=(10,), stride=(5,))\n",
      "            (norm): Identity()\n",
      "          )\n",
      "        )\n",
      "        (7): SEANetResnetBlock(\n",
      "          (block): Sequential(\n",
      "            (0): ELU(alpha=1.0)\n",
      "            (1): SConv1d(\n",
      "              (conv): NormConv1d(\n",
      "                (conv): Conv1d(128, 64, kernel_size=(3,), stride=(1,))\n",
      "                (norm): Identity()\n",
      "              )\n",
      "            )\n",
      "            (2): ELU(alpha=1.0)\n",
      "            (3): SConv1d(\n",
      "              (conv): NormConv1d(\n",
      "                (conv): Conv1d(64, 128, kernel_size=(1,), stride=(1,))\n",
      "                (norm): Identity()\n",
      "              )\n",
      "            )\n",
      "          )\n",
      "          (shortcut): SConv1d(\n",
      "            (conv): NormConv1d(\n",
      "              (conv): Conv1d(128, 128, kernel_size=(1,), stride=(1,))\n",
      "              (norm): Identity()\n",
      "            )\n",
      "          )\n",
      "        )\n",
      "        (8): ELU(alpha=1.0)\n",
      "        (9): SConvTranspose1d(\n",
      "          (convtr): NormConvTranspose1d(\n",
      "            (convtr): ConvTranspose1d(128, 64, kernel_size=(8,), stride=(4,))\n",
      "            (norm): Identity()\n",
      "          )\n",
      "        )\n",
      "        (10): SEANetResnetBlock(\n",
      "          (block): Sequential(\n",
      "            (0): ELU(alpha=1.0)\n",
      "            (1): SConv1d(\n",
      "              (conv): NormConv1d(\n",
      "                (conv): Conv1d(64, 32, kernel_size=(3,), stride=(1,))\n",
      "                (norm): Identity()\n",
      "              )\n",
      "            )\n",
      "            (2): ELU(alpha=1.0)\n",
      "            (3): SConv1d(\n",
      "              (conv): NormConv1d(\n",
      "                (conv): Conv1d(32, 64, kernel_size=(1,), stride=(1,))\n",
      "                (norm): Identity()\n",
      "              )\n",
      "            )\n",
      "          )\n",
      "          (shortcut): SConv1d(\n",
      "            (conv): NormConv1d(\n",
      "              (conv): Conv1d(64, 64, kernel_size=(1,), stride=(1,))\n",
      "              (norm): Identity()\n",
      "            )\n",
      "          )\n",
      "        )\n",
      "        (11): ELU(alpha=1.0)\n",
      "        (12): SConvTranspose1d(\n",
      "          (convtr): NormConvTranspose1d(\n",
      "            (convtr): ConvTranspose1d(64, 32, kernel_size=(4,), stride=(2,))\n",
      "            (norm): Identity()\n",
      "          )\n",
      "        )\n",
      "        (13): SEANetResnetBlock(\n",
      "          (block): Sequential(\n",
      "            (0): ELU(alpha=1.0)\n",
      "            (1): SConv1d(\n",
      "              (conv): NormConv1d(\n",
      "                (conv): Conv1d(32, 16, kernel_size=(3,), stride=(1,))\n",
      "                (norm): Identity()\n",
      "              )\n",
      "            )\n",
      "            (2): ELU(alpha=1.0)\n",
      "            (3): SConv1d(\n",
      "              (conv): NormConv1d(\n",
      "                (conv): Conv1d(16, 32, kernel_size=(1,), stride=(1,))\n",
      "                (norm): Identity()\n",
      "              )\n",
      "            )\n",
      "          )\n",
      "          (shortcut): SConv1d(\n",
      "            (conv): NormConv1d(\n",
      "              (conv): Conv1d(32, 32, kernel_size=(1,), stride=(1,))\n",
      "              (norm): Identity()\n",
      "            )\n",
      "          )\n",
      "        )\n",
      "        (14): ELU(alpha=1.0)\n",
      "        (15): SConv1d(\n",
      "          (conv): NormConv1d(\n",
      "            (conv): Conv1d(32, 1, kernel_size=(7,), stride=(1,))\n",
      "            (norm): Identity()\n",
      "          )\n",
      "        )\n",
      "      )\n",
      "    )\n",
      "  )\n",
      "  (loss_fn): MultimodalEarconLoss(\n",
      "    (mel_spectrogram): Sequential(\n",
      "      (0): MelSpectrogram(\n",
      "        (spectrogram): Spectrogram()\n",
      "        (mel_scale): MelScale()\n",
      "      )\n",
      "      (1): LogTransform()\n",
      "    )\n",
      "  )\n",
      "  (musicgen): MusicgenModel(\n",
      "    (decoder): MusicgenDecoder(\n",
      "      (embed_tokens): ModuleList(\n",
      "        (0): Embedding(2049, 1024)\n",
      "      )\n",
      "      (embed_positions): MusicgenSinusoidalPositionalEmbedding()\n",
      "      (layers): ModuleList(\n",
      "        (0-23): 24 x MusicgenDecoderLayer(\n",
      "          (self_attn): MusicgenSdpaAttention(\n",
      "            (k_proj): Linear(in_features=1024, out_features=1024, bias=False)\n",
      "            (v_proj): Linear(in_features=1024, out_features=1024, bias=False)\n",
      "            (q_proj): Linear(in_features=1024, out_features=1024, bias=False)\n",
      "            (out_proj): Linear(in_features=1024, out_features=1024, bias=False)\n",
      "          )\n",
      "          (activation_fn): GELUActivation()\n",
      "          (self_attn_layer_norm): LayerNorm((1024,), eps=1e-05, elementwise_affine=True)\n",
      "          (encoder_attn): MusicgenSdpaAttention(\n",
      "            (k_proj): Linear(in_features=1024, out_features=1024, bias=False)\n",
      "            (v_proj): Linear(in_features=1024, out_features=1024, bias=False)\n",
      "            (q_proj): Linear(in_features=1024, out_features=1024, bias=False)\n",
      "            (out_proj): Linear(in_features=1024, out_features=1024, bias=False)\n",
      "          )\n",
      "          (encoder_attn_layer_norm): LayerNorm((1024,), eps=1e-05, elementwise_affine=True)\n",
      "          (fc1): Linear(in_features=1024, out_features=4096, bias=False)\n",
      "          (fc2): Linear(in_features=4096, out_features=1024, bias=False)\n",
      "          (final_layer_norm): LayerNorm((1024,), eps=1e-05, elementwise_affine=True)\n",
      "        )\n",
      "      )\n",
      "      (layer_norm): LayerNorm((1024,), eps=1e-05, elementwise_affine=True)\n",
      "    )\n",
      "  )\n",
      "  (image_projection): Sequential(\n",
      "    (0): ResidualBlock(\n",
      "      (block): Sequential(\n",
      "        (0): Linear(in_features=512, out_features=512, bias=True)\n",
      "        (1): SiLU()\n",
      "        (2): BatchNorm1d(512, eps=1e-05, momentum=0.1, affine=True, track_running_stats=True)\n",
      "      )\n",
      "    )\n",
      "    (1): Sequential(\n",
      "      (0): Linear(in_features=512, out_features=512, bias=True)\n",
      "      (1): LayerNorm((512,), eps=1e-05, elementwise_affine=True)\n",
      "    )\n",
      "  )\n",
      "  (roundness_projection): Sequential(\n",
      "    (0): Linear(in_features=1, out_features=64, bias=True)\n",
      "    (1): SiLU()\n",
      "    (2): BatchNorm1d(64, eps=1e-05, momentum=0.1, affine=True, track_running_stats=True)\n",
      "    (3): Linear(in_features=64, out_features=128, bias=True)\n",
      "    (4): LayerNorm((128,), eps=1e-05, elementwise_affine=True)\n",
      "  )\n",
      "  (modality_fusion): Sequential(\n",
      "    (0): Linear(in_features=640, out_features=256, bias=True)\n",
      "    (1): ReLU()\n",
      "    (2): BatchNorm1d(256, eps=1e-05, momentum=0.1, affine=True, track_running_stats=True)\n",
      "    (3): Linear(in_features=256, out_features=512, bias=True)\n",
      "    (4): ReLU()\n",
      "    (5): LayerNorm((512,), eps=1e-05, elementwise_affine=True)\n",
      "  )\n",
      "  (float_to_int_converter): FloatToIntegerLayer()\n",
      "  (musicgen_to_encodec_channels): Linear(in_features=1024, out_features=1, bias=True)\n",
      ")\n"
     ]
    }
   ],
   "source": [
    "print(model)"
   ]
  },
  {
   "cell_type": "code",
   "execution_count": 8,
   "metadata": {},
   "outputs": [
    {
     "name": "stdout",
     "output_type": "stream",
     "text": [
      "musicgen.decoder.embed_tokens.0.weight torch.Size([2049, 1024])\n",
      "musicgen.decoder.layers.0.self_attn.k_proj.weight torch.Size([1024, 1024])\n",
      "musicgen.decoder.layers.0.self_attn.v_proj.weight torch.Size([1024, 1024])\n",
      "musicgen.decoder.layers.0.self_attn.q_proj.weight torch.Size([1024, 1024])\n",
      "musicgen.decoder.layers.0.self_attn.out_proj.weight torch.Size([1024, 1024])\n",
      "musicgen.decoder.layers.0.self_attn_layer_norm.weight torch.Size([1024])\n",
      "musicgen.decoder.layers.0.self_attn_layer_norm.bias torch.Size([1024])\n",
      "musicgen.decoder.layers.0.encoder_attn.k_proj.weight torch.Size([1024, 1024])\n",
      "musicgen.decoder.layers.0.encoder_attn.v_proj.weight torch.Size([1024, 1024])\n",
      "musicgen.decoder.layers.0.encoder_attn.q_proj.weight torch.Size([1024, 1024])\n",
      "musicgen.decoder.layers.0.encoder_attn.out_proj.weight torch.Size([1024, 1024])\n",
      "musicgen.decoder.layers.0.encoder_attn_layer_norm.weight torch.Size([1024])\n",
      "musicgen.decoder.layers.0.encoder_attn_layer_norm.bias torch.Size([1024])\n",
      "musicgen.decoder.layers.0.fc1.weight torch.Size([4096, 1024])\n",
      "musicgen.decoder.layers.0.fc2.weight torch.Size([1024, 4096])\n",
      "musicgen.decoder.layers.0.final_layer_norm.weight torch.Size([1024])\n",
      "musicgen.decoder.layers.0.final_layer_norm.bias torch.Size([1024])\n",
      "musicgen.decoder.layers.1.self_attn.k_proj.weight torch.Size([1024, 1024])\n",
      "musicgen.decoder.layers.1.self_attn.v_proj.weight torch.Size([1024, 1024])\n",
      "musicgen.decoder.layers.1.self_attn.q_proj.weight torch.Size([1024, 1024])\n",
      "musicgen.decoder.layers.1.self_attn.out_proj.weight torch.Size([1024, 1024])\n",
      "musicgen.decoder.layers.1.self_attn_layer_norm.weight torch.Size([1024])\n",
      "musicgen.decoder.layers.1.self_attn_layer_norm.bias torch.Size([1024])\n",
      "musicgen.decoder.layers.1.encoder_attn.k_proj.weight torch.Size([1024, 1024])\n",
      "musicgen.decoder.layers.1.encoder_attn.v_proj.weight torch.Size([1024, 1024])\n",
      "musicgen.decoder.layers.1.encoder_attn.q_proj.weight torch.Size([1024, 1024])\n",
      "musicgen.decoder.layers.1.encoder_attn.out_proj.weight torch.Size([1024, 1024])\n",
      "musicgen.decoder.layers.1.encoder_attn_layer_norm.weight torch.Size([1024])\n",
      "musicgen.decoder.layers.1.encoder_attn_layer_norm.bias torch.Size([1024])\n",
      "musicgen.decoder.layers.1.fc1.weight torch.Size([4096, 1024])\n",
      "musicgen.decoder.layers.1.fc2.weight torch.Size([1024, 4096])\n",
      "musicgen.decoder.layers.1.final_layer_norm.weight torch.Size([1024])\n",
      "musicgen.decoder.layers.1.final_layer_norm.bias torch.Size([1024])\n",
      "musicgen.decoder.layers.2.self_attn.k_proj.weight torch.Size([1024, 1024])\n",
      "musicgen.decoder.layers.2.self_attn.v_proj.weight torch.Size([1024, 1024])\n",
      "musicgen.decoder.layers.2.self_attn.q_proj.weight torch.Size([1024, 1024])\n",
      "musicgen.decoder.layers.2.self_attn.out_proj.weight torch.Size([1024, 1024])\n",
      "musicgen.decoder.layers.2.self_attn_layer_norm.weight torch.Size([1024])\n",
      "musicgen.decoder.layers.2.self_attn_layer_norm.bias torch.Size([1024])\n",
      "musicgen.decoder.layers.2.encoder_attn.k_proj.weight torch.Size([1024, 1024])\n",
      "musicgen.decoder.layers.2.encoder_attn.v_proj.weight torch.Size([1024, 1024])\n",
      "musicgen.decoder.layers.2.encoder_attn.q_proj.weight torch.Size([1024, 1024])\n",
      "musicgen.decoder.layers.2.encoder_attn.out_proj.weight torch.Size([1024, 1024])\n",
      "musicgen.decoder.layers.2.encoder_attn_layer_norm.weight torch.Size([1024])\n",
      "musicgen.decoder.layers.2.encoder_attn_layer_norm.bias torch.Size([1024])\n",
      "musicgen.decoder.layers.2.fc1.weight torch.Size([4096, 1024])\n",
      "musicgen.decoder.layers.2.fc2.weight torch.Size([1024, 4096])\n",
      "musicgen.decoder.layers.2.final_layer_norm.weight torch.Size([1024])\n",
      "musicgen.decoder.layers.2.final_layer_norm.bias torch.Size([1024])\n",
      "musicgen.decoder.layers.3.self_attn.k_proj.weight torch.Size([1024, 1024])\n",
      "musicgen.decoder.layers.3.self_attn.v_proj.weight torch.Size([1024, 1024])\n",
      "musicgen.decoder.layers.3.self_attn.q_proj.weight torch.Size([1024, 1024])\n",
      "musicgen.decoder.layers.3.self_attn.out_proj.weight torch.Size([1024, 1024])\n",
      "musicgen.decoder.layers.3.self_attn_layer_norm.weight torch.Size([1024])\n",
      "musicgen.decoder.layers.3.self_attn_layer_norm.bias torch.Size([1024])\n",
      "musicgen.decoder.layers.3.encoder_attn.k_proj.weight torch.Size([1024, 1024])\n",
      "musicgen.decoder.layers.3.encoder_attn.v_proj.weight torch.Size([1024, 1024])\n",
      "musicgen.decoder.layers.3.encoder_attn.q_proj.weight torch.Size([1024, 1024])\n",
      "musicgen.decoder.layers.3.encoder_attn.out_proj.weight torch.Size([1024, 1024])\n",
      "musicgen.decoder.layers.3.encoder_attn_layer_norm.weight torch.Size([1024])\n",
      "musicgen.decoder.layers.3.encoder_attn_layer_norm.bias torch.Size([1024])\n",
      "musicgen.decoder.layers.3.fc1.weight torch.Size([4096, 1024])\n",
      "musicgen.decoder.layers.3.fc2.weight torch.Size([1024, 4096])\n",
      "musicgen.decoder.layers.3.final_layer_norm.weight torch.Size([1024])\n",
      "musicgen.decoder.layers.3.final_layer_norm.bias torch.Size([1024])\n",
      "musicgen.decoder.layers.4.self_attn.k_proj.weight torch.Size([1024, 1024])\n",
      "musicgen.decoder.layers.4.self_attn.v_proj.weight torch.Size([1024, 1024])\n",
      "musicgen.decoder.layers.4.self_attn.q_proj.weight torch.Size([1024, 1024])\n",
      "musicgen.decoder.layers.4.self_attn.out_proj.weight torch.Size([1024, 1024])\n",
      "musicgen.decoder.layers.4.self_attn_layer_norm.weight torch.Size([1024])\n",
      "musicgen.decoder.layers.4.self_attn_layer_norm.bias torch.Size([1024])\n",
      "musicgen.decoder.layers.4.encoder_attn.k_proj.weight torch.Size([1024, 1024])\n",
      "musicgen.decoder.layers.4.encoder_attn.v_proj.weight torch.Size([1024, 1024])\n",
      "musicgen.decoder.layers.4.encoder_attn.q_proj.weight torch.Size([1024, 1024])\n",
      "musicgen.decoder.layers.4.encoder_attn.out_proj.weight torch.Size([1024, 1024])\n",
      "musicgen.decoder.layers.4.encoder_attn_layer_norm.weight torch.Size([1024])\n",
      "musicgen.decoder.layers.4.encoder_attn_layer_norm.bias torch.Size([1024])\n",
      "musicgen.decoder.layers.4.fc1.weight torch.Size([4096, 1024])\n",
      "musicgen.decoder.layers.4.fc2.weight torch.Size([1024, 4096])\n",
      "musicgen.decoder.layers.4.final_layer_norm.weight torch.Size([1024])\n",
      "musicgen.decoder.layers.4.final_layer_norm.bias torch.Size([1024])\n",
      "musicgen.decoder.layers.5.self_attn.k_proj.weight torch.Size([1024, 1024])\n",
      "musicgen.decoder.layers.5.self_attn.v_proj.weight torch.Size([1024, 1024])\n",
      "musicgen.decoder.layers.5.self_attn.q_proj.weight torch.Size([1024, 1024])\n",
      "musicgen.decoder.layers.5.self_attn.out_proj.weight torch.Size([1024, 1024])\n",
      "musicgen.decoder.layers.5.self_attn_layer_norm.weight torch.Size([1024])\n",
      "musicgen.decoder.layers.5.self_attn_layer_norm.bias torch.Size([1024])\n",
      "musicgen.decoder.layers.5.encoder_attn.k_proj.weight torch.Size([1024, 1024])\n",
      "musicgen.decoder.layers.5.encoder_attn.v_proj.weight torch.Size([1024, 1024])\n",
      "musicgen.decoder.layers.5.encoder_attn.q_proj.weight torch.Size([1024, 1024])\n",
      "musicgen.decoder.layers.5.encoder_attn.out_proj.weight torch.Size([1024, 1024])\n",
      "musicgen.decoder.layers.5.encoder_attn_layer_norm.weight torch.Size([1024])\n",
      "musicgen.decoder.layers.5.encoder_attn_layer_norm.bias torch.Size([1024])\n",
      "musicgen.decoder.layers.5.fc1.weight torch.Size([4096, 1024])\n",
      "musicgen.decoder.layers.5.fc2.weight torch.Size([1024, 4096])\n",
      "musicgen.decoder.layers.5.final_layer_norm.weight torch.Size([1024])\n",
      "musicgen.decoder.layers.5.final_layer_norm.bias torch.Size([1024])\n",
      "musicgen.decoder.layers.6.self_attn.k_proj.weight torch.Size([1024, 1024])\n",
      "musicgen.decoder.layers.6.self_attn.v_proj.weight torch.Size([1024, 1024])\n",
      "musicgen.decoder.layers.6.self_attn.q_proj.weight torch.Size([1024, 1024])\n",
      "musicgen.decoder.layers.6.self_attn.out_proj.weight torch.Size([1024, 1024])\n",
      "musicgen.decoder.layers.6.self_attn_layer_norm.weight torch.Size([1024])\n",
      "musicgen.decoder.layers.6.self_attn_layer_norm.bias torch.Size([1024])\n",
      "musicgen.decoder.layers.6.encoder_attn.k_proj.weight torch.Size([1024, 1024])\n",
      "musicgen.decoder.layers.6.encoder_attn.v_proj.weight torch.Size([1024, 1024])\n",
      "musicgen.decoder.layers.6.encoder_attn.q_proj.weight torch.Size([1024, 1024])\n",
      "musicgen.decoder.layers.6.encoder_attn.out_proj.weight torch.Size([1024, 1024])\n",
      "musicgen.decoder.layers.6.encoder_attn_layer_norm.weight torch.Size([1024])\n",
      "musicgen.decoder.layers.6.encoder_attn_layer_norm.bias torch.Size([1024])\n",
      "musicgen.decoder.layers.6.fc1.weight torch.Size([4096, 1024])\n",
      "musicgen.decoder.layers.6.fc2.weight torch.Size([1024, 4096])\n",
      "musicgen.decoder.layers.6.final_layer_norm.weight torch.Size([1024])\n",
      "musicgen.decoder.layers.6.final_layer_norm.bias torch.Size([1024])\n",
      "musicgen.decoder.layers.7.self_attn.k_proj.weight torch.Size([1024, 1024])\n",
      "musicgen.decoder.layers.7.self_attn.v_proj.weight torch.Size([1024, 1024])\n",
      "musicgen.decoder.layers.7.self_attn.q_proj.weight torch.Size([1024, 1024])\n",
      "musicgen.decoder.layers.7.self_attn.out_proj.weight torch.Size([1024, 1024])\n",
      "musicgen.decoder.layers.7.self_attn_layer_norm.weight torch.Size([1024])\n",
      "musicgen.decoder.layers.7.self_attn_layer_norm.bias torch.Size([1024])\n",
      "musicgen.decoder.layers.7.encoder_attn.k_proj.weight torch.Size([1024, 1024])\n",
      "musicgen.decoder.layers.7.encoder_attn.v_proj.weight torch.Size([1024, 1024])\n",
      "musicgen.decoder.layers.7.encoder_attn.q_proj.weight torch.Size([1024, 1024])\n",
      "musicgen.decoder.layers.7.encoder_attn.out_proj.weight torch.Size([1024, 1024])\n",
      "musicgen.decoder.layers.7.encoder_attn_layer_norm.weight torch.Size([1024])\n",
      "musicgen.decoder.layers.7.encoder_attn_layer_norm.bias torch.Size([1024])\n",
      "musicgen.decoder.layers.7.fc1.weight torch.Size([4096, 1024])\n",
      "musicgen.decoder.layers.7.fc2.weight torch.Size([1024, 4096])\n",
      "musicgen.decoder.layers.7.final_layer_norm.weight torch.Size([1024])\n",
      "musicgen.decoder.layers.7.final_layer_norm.bias torch.Size([1024])\n",
      "musicgen.decoder.layers.8.self_attn.k_proj.weight torch.Size([1024, 1024])\n",
      "musicgen.decoder.layers.8.self_attn.v_proj.weight torch.Size([1024, 1024])\n",
      "musicgen.decoder.layers.8.self_attn.q_proj.weight torch.Size([1024, 1024])\n",
      "musicgen.decoder.layers.8.self_attn.out_proj.weight torch.Size([1024, 1024])\n",
      "musicgen.decoder.layers.8.self_attn_layer_norm.weight torch.Size([1024])\n",
      "musicgen.decoder.layers.8.self_attn_layer_norm.bias torch.Size([1024])\n",
      "musicgen.decoder.layers.8.encoder_attn.k_proj.weight torch.Size([1024, 1024])\n",
      "musicgen.decoder.layers.8.encoder_attn.v_proj.weight torch.Size([1024, 1024])\n",
      "musicgen.decoder.layers.8.encoder_attn.q_proj.weight torch.Size([1024, 1024])\n",
      "musicgen.decoder.layers.8.encoder_attn.out_proj.weight torch.Size([1024, 1024])\n",
      "musicgen.decoder.layers.8.encoder_attn_layer_norm.weight torch.Size([1024])\n",
      "musicgen.decoder.layers.8.encoder_attn_layer_norm.bias torch.Size([1024])\n",
      "musicgen.decoder.layers.8.fc1.weight torch.Size([4096, 1024])\n",
      "musicgen.decoder.layers.8.fc2.weight torch.Size([1024, 4096])\n",
      "musicgen.decoder.layers.8.final_layer_norm.weight torch.Size([1024])\n",
      "musicgen.decoder.layers.8.final_layer_norm.bias torch.Size([1024])\n",
      "musicgen.decoder.layers.9.self_attn.k_proj.weight torch.Size([1024, 1024])\n",
      "musicgen.decoder.layers.9.self_attn.v_proj.weight torch.Size([1024, 1024])\n",
      "musicgen.decoder.layers.9.self_attn.q_proj.weight torch.Size([1024, 1024])\n",
      "musicgen.decoder.layers.9.self_attn.out_proj.weight torch.Size([1024, 1024])\n",
      "musicgen.decoder.layers.9.self_attn_layer_norm.weight torch.Size([1024])\n",
      "musicgen.decoder.layers.9.self_attn_layer_norm.bias torch.Size([1024])\n",
      "musicgen.decoder.layers.9.encoder_attn.k_proj.weight torch.Size([1024, 1024])\n",
      "musicgen.decoder.layers.9.encoder_attn.v_proj.weight torch.Size([1024, 1024])\n",
      "musicgen.decoder.layers.9.encoder_attn.q_proj.weight torch.Size([1024, 1024])\n",
      "musicgen.decoder.layers.9.encoder_attn.out_proj.weight torch.Size([1024, 1024])\n",
      "musicgen.decoder.layers.9.encoder_attn_layer_norm.weight torch.Size([1024])\n",
      "musicgen.decoder.layers.9.encoder_attn_layer_norm.bias torch.Size([1024])\n",
      "musicgen.decoder.layers.9.fc1.weight torch.Size([4096, 1024])\n",
      "musicgen.decoder.layers.9.fc2.weight torch.Size([1024, 4096])\n",
      "musicgen.decoder.layers.9.final_layer_norm.weight torch.Size([1024])\n",
      "musicgen.decoder.layers.9.final_layer_norm.bias torch.Size([1024])\n",
      "musicgen.decoder.layers.10.self_attn.k_proj.weight torch.Size([1024, 1024])\n",
      "musicgen.decoder.layers.10.self_attn.v_proj.weight torch.Size([1024, 1024])\n",
      "musicgen.decoder.layers.10.self_attn.q_proj.weight torch.Size([1024, 1024])\n",
      "musicgen.decoder.layers.10.self_attn.out_proj.weight torch.Size([1024, 1024])\n",
      "musicgen.decoder.layers.10.self_attn_layer_norm.weight torch.Size([1024])\n",
      "musicgen.decoder.layers.10.self_attn_layer_norm.bias torch.Size([1024])\n",
      "musicgen.decoder.layers.10.encoder_attn.k_proj.weight torch.Size([1024, 1024])\n",
      "musicgen.decoder.layers.10.encoder_attn.v_proj.weight torch.Size([1024, 1024])\n",
      "musicgen.decoder.layers.10.encoder_attn.q_proj.weight torch.Size([1024, 1024])\n",
      "musicgen.decoder.layers.10.encoder_attn.out_proj.weight torch.Size([1024, 1024])\n",
      "musicgen.decoder.layers.10.encoder_attn_layer_norm.weight torch.Size([1024])\n",
      "musicgen.decoder.layers.10.encoder_attn_layer_norm.bias torch.Size([1024])\n",
      "musicgen.decoder.layers.10.fc1.weight torch.Size([4096, 1024])\n",
      "musicgen.decoder.layers.10.fc2.weight torch.Size([1024, 4096])\n",
      "musicgen.decoder.layers.10.final_layer_norm.weight torch.Size([1024])\n",
      "musicgen.decoder.layers.10.final_layer_norm.bias torch.Size([1024])\n",
      "musicgen.decoder.layers.11.self_attn.k_proj.weight torch.Size([1024, 1024])\n",
      "musicgen.decoder.layers.11.self_attn.v_proj.weight torch.Size([1024, 1024])\n",
      "musicgen.decoder.layers.11.self_attn.q_proj.weight torch.Size([1024, 1024])\n",
      "musicgen.decoder.layers.11.self_attn.out_proj.weight torch.Size([1024, 1024])\n",
      "musicgen.decoder.layers.11.self_attn_layer_norm.weight torch.Size([1024])\n",
      "musicgen.decoder.layers.11.self_attn_layer_norm.bias torch.Size([1024])\n",
      "musicgen.decoder.layers.11.encoder_attn.k_proj.weight torch.Size([1024, 1024])\n",
      "musicgen.decoder.layers.11.encoder_attn.v_proj.weight torch.Size([1024, 1024])\n",
      "musicgen.decoder.layers.11.encoder_attn.q_proj.weight torch.Size([1024, 1024])\n",
      "musicgen.decoder.layers.11.encoder_attn.out_proj.weight torch.Size([1024, 1024])\n",
      "musicgen.decoder.layers.11.encoder_attn_layer_norm.weight torch.Size([1024])\n",
      "musicgen.decoder.layers.11.encoder_attn_layer_norm.bias torch.Size([1024])\n",
      "musicgen.decoder.layers.11.fc1.weight torch.Size([4096, 1024])\n",
      "musicgen.decoder.layers.11.fc2.weight torch.Size([1024, 4096])\n",
      "musicgen.decoder.layers.11.final_layer_norm.weight torch.Size([1024])\n",
      "musicgen.decoder.layers.11.final_layer_norm.bias torch.Size([1024])\n",
      "musicgen.decoder.layers.12.self_attn.k_proj.weight torch.Size([1024, 1024])\n",
      "musicgen.decoder.layers.12.self_attn.v_proj.weight torch.Size([1024, 1024])\n",
      "musicgen.decoder.layers.12.self_attn.q_proj.weight torch.Size([1024, 1024])\n",
      "musicgen.decoder.layers.12.self_attn.out_proj.weight torch.Size([1024, 1024])\n",
      "musicgen.decoder.layers.12.self_attn_layer_norm.weight torch.Size([1024])\n",
      "musicgen.decoder.layers.12.self_attn_layer_norm.bias torch.Size([1024])\n",
      "musicgen.decoder.layers.12.encoder_attn.k_proj.weight torch.Size([1024, 1024])\n",
      "musicgen.decoder.layers.12.encoder_attn.v_proj.weight torch.Size([1024, 1024])\n",
      "musicgen.decoder.layers.12.encoder_attn.q_proj.weight torch.Size([1024, 1024])\n",
      "musicgen.decoder.layers.12.encoder_attn.out_proj.weight torch.Size([1024, 1024])\n",
      "musicgen.decoder.layers.12.encoder_attn_layer_norm.weight torch.Size([1024])\n",
      "musicgen.decoder.layers.12.encoder_attn_layer_norm.bias torch.Size([1024])\n",
      "musicgen.decoder.layers.12.fc1.weight torch.Size([4096, 1024])\n",
      "musicgen.decoder.layers.12.fc2.weight torch.Size([1024, 4096])\n",
      "musicgen.decoder.layers.12.final_layer_norm.weight torch.Size([1024])\n",
      "musicgen.decoder.layers.12.final_layer_norm.bias torch.Size([1024])\n",
      "musicgen.decoder.layers.13.self_attn.k_proj.weight torch.Size([1024, 1024])\n",
      "musicgen.decoder.layers.13.self_attn.v_proj.weight torch.Size([1024, 1024])\n",
      "musicgen.decoder.layers.13.self_attn.q_proj.weight torch.Size([1024, 1024])\n",
      "musicgen.decoder.layers.13.self_attn.out_proj.weight torch.Size([1024, 1024])\n",
      "musicgen.decoder.layers.13.self_attn_layer_norm.weight torch.Size([1024])\n",
      "musicgen.decoder.layers.13.self_attn_layer_norm.bias torch.Size([1024])\n",
      "musicgen.decoder.layers.13.encoder_attn.k_proj.weight torch.Size([1024, 1024])\n",
      "musicgen.decoder.layers.13.encoder_attn.v_proj.weight torch.Size([1024, 1024])\n",
      "musicgen.decoder.layers.13.encoder_attn.q_proj.weight torch.Size([1024, 1024])\n",
      "musicgen.decoder.layers.13.encoder_attn.out_proj.weight torch.Size([1024, 1024])\n",
      "musicgen.decoder.layers.13.encoder_attn_layer_norm.weight torch.Size([1024])\n",
      "musicgen.decoder.layers.13.encoder_attn_layer_norm.bias torch.Size([1024])\n",
      "musicgen.decoder.layers.13.fc1.weight torch.Size([4096, 1024])\n",
      "musicgen.decoder.layers.13.fc2.weight torch.Size([1024, 4096])\n",
      "musicgen.decoder.layers.13.final_layer_norm.weight torch.Size([1024])\n",
      "musicgen.decoder.layers.13.final_layer_norm.bias torch.Size([1024])\n",
      "musicgen.decoder.layers.14.self_attn.k_proj.weight torch.Size([1024, 1024])\n",
      "musicgen.decoder.layers.14.self_attn.v_proj.weight torch.Size([1024, 1024])\n",
      "musicgen.decoder.layers.14.self_attn.q_proj.weight torch.Size([1024, 1024])\n",
      "musicgen.decoder.layers.14.self_attn.out_proj.weight torch.Size([1024, 1024])\n",
      "musicgen.decoder.layers.14.self_attn_layer_norm.weight torch.Size([1024])\n",
      "musicgen.decoder.layers.14.self_attn_layer_norm.bias torch.Size([1024])\n",
      "musicgen.decoder.layers.14.encoder_attn.k_proj.weight torch.Size([1024, 1024])\n",
      "musicgen.decoder.layers.14.encoder_attn.v_proj.weight torch.Size([1024, 1024])\n",
      "musicgen.decoder.layers.14.encoder_attn.q_proj.weight torch.Size([1024, 1024])\n",
      "musicgen.decoder.layers.14.encoder_attn.out_proj.weight torch.Size([1024, 1024])\n",
      "musicgen.decoder.layers.14.encoder_attn_layer_norm.weight torch.Size([1024])\n",
      "musicgen.decoder.layers.14.encoder_attn_layer_norm.bias torch.Size([1024])\n",
      "musicgen.decoder.layers.14.fc1.weight torch.Size([4096, 1024])\n",
      "musicgen.decoder.layers.14.fc2.weight torch.Size([1024, 4096])\n",
      "musicgen.decoder.layers.14.final_layer_norm.weight torch.Size([1024])\n",
      "musicgen.decoder.layers.14.final_layer_norm.bias torch.Size([1024])\n",
      "musicgen.decoder.layers.15.self_attn.k_proj.weight torch.Size([1024, 1024])\n",
      "musicgen.decoder.layers.15.self_attn.v_proj.weight torch.Size([1024, 1024])\n",
      "musicgen.decoder.layers.15.self_attn.q_proj.weight torch.Size([1024, 1024])\n",
      "musicgen.decoder.layers.15.self_attn.out_proj.weight torch.Size([1024, 1024])\n",
      "musicgen.decoder.layers.15.self_attn_layer_norm.weight torch.Size([1024])\n",
      "musicgen.decoder.layers.15.self_attn_layer_norm.bias torch.Size([1024])\n",
      "musicgen.decoder.layers.15.encoder_attn.k_proj.weight torch.Size([1024, 1024])\n",
      "musicgen.decoder.layers.15.encoder_attn.v_proj.weight torch.Size([1024, 1024])\n",
      "musicgen.decoder.layers.15.encoder_attn.q_proj.weight torch.Size([1024, 1024])\n",
      "musicgen.decoder.layers.15.encoder_attn.out_proj.weight torch.Size([1024, 1024])\n",
      "musicgen.decoder.layers.15.encoder_attn_layer_norm.weight torch.Size([1024])\n",
      "musicgen.decoder.layers.15.encoder_attn_layer_norm.bias torch.Size([1024])\n",
      "musicgen.decoder.layers.15.fc1.weight torch.Size([4096, 1024])\n",
      "musicgen.decoder.layers.15.fc2.weight torch.Size([1024, 4096])\n",
      "musicgen.decoder.layers.15.final_layer_norm.weight torch.Size([1024])\n",
      "musicgen.decoder.layers.15.final_layer_norm.bias torch.Size([1024])\n",
      "musicgen.decoder.layers.16.self_attn.k_proj.weight torch.Size([1024, 1024])\n",
      "musicgen.decoder.layers.16.self_attn.v_proj.weight torch.Size([1024, 1024])\n",
      "musicgen.decoder.layers.16.self_attn.q_proj.weight torch.Size([1024, 1024])\n",
      "musicgen.decoder.layers.16.self_attn.out_proj.weight torch.Size([1024, 1024])\n",
      "musicgen.decoder.layers.16.self_attn_layer_norm.weight torch.Size([1024])\n",
      "musicgen.decoder.layers.16.self_attn_layer_norm.bias torch.Size([1024])\n",
      "musicgen.decoder.layers.16.encoder_attn.k_proj.weight torch.Size([1024, 1024])\n",
      "musicgen.decoder.layers.16.encoder_attn.v_proj.weight torch.Size([1024, 1024])\n",
      "musicgen.decoder.layers.16.encoder_attn.q_proj.weight torch.Size([1024, 1024])\n",
      "musicgen.decoder.layers.16.encoder_attn.out_proj.weight torch.Size([1024, 1024])\n",
      "musicgen.decoder.layers.16.encoder_attn_layer_norm.weight torch.Size([1024])\n",
      "musicgen.decoder.layers.16.encoder_attn_layer_norm.bias torch.Size([1024])\n",
      "musicgen.decoder.layers.16.fc1.weight torch.Size([4096, 1024])\n",
      "musicgen.decoder.layers.16.fc2.weight torch.Size([1024, 4096])\n",
      "musicgen.decoder.layers.16.final_layer_norm.weight torch.Size([1024])\n",
      "musicgen.decoder.layers.16.final_layer_norm.bias torch.Size([1024])\n",
      "musicgen.decoder.layers.17.self_attn.k_proj.weight torch.Size([1024, 1024])\n",
      "musicgen.decoder.layers.17.self_attn.v_proj.weight torch.Size([1024, 1024])\n",
      "musicgen.decoder.layers.17.self_attn.q_proj.weight torch.Size([1024, 1024])\n",
      "musicgen.decoder.layers.17.self_attn.out_proj.weight torch.Size([1024, 1024])\n",
      "musicgen.decoder.layers.17.self_attn_layer_norm.weight torch.Size([1024])\n",
      "musicgen.decoder.layers.17.self_attn_layer_norm.bias torch.Size([1024])\n",
      "musicgen.decoder.layers.17.encoder_attn.k_proj.weight torch.Size([1024, 1024])\n",
      "musicgen.decoder.layers.17.encoder_attn.v_proj.weight torch.Size([1024, 1024])\n",
      "musicgen.decoder.layers.17.encoder_attn.q_proj.weight torch.Size([1024, 1024])\n",
      "musicgen.decoder.layers.17.encoder_attn.out_proj.weight torch.Size([1024, 1024])\n",
      "musicgen.decoder.layers.17.encoder_attn_layer_norm.weight torch.Size([1024])\n",
      "musicgen.decoder.layers.17.encoder_attn_layer_norm.bias torch.Size([1024])\n",
      "musicgen.decoder.layers.17.fc1.weight torch.Size([4096, 1024])\n",
      "musicgen.decoder.layers.17.fc2.weight torch.Size([1024, 4096])\n",
      "musicgen.decoder.layers.17.final_layer_norm.weight torch.Size([1024])\n",
      "musicgen.decoder.layers.17.final_layer_norm.bias torch.Size([1024])\n",
      "musicgen.decoder.layers.18.self_attn.k_proj.weight torch.Size([1024, 1024])\n",
      "musicgen.decoder.layers.18.self_attn.v_proj.weight torch.Size([1024, 1024])\n",
      "musicgen.decoder.layers.18.self_attn.q_proj.weight torch.Size([1024, 1024])\n",
      "musicgen.decoder.layers.18.self_attn.out_proj.weight torch.Size([1024, 1024])\n",
      "musicgen.decoder.layers.18.self_attn_layer_norm.weight torch.Size([1024])\n",
      "musicgen.decoder.layers.18.self_attn_layer_norm.bias torch.Size([1024])\n",
      "musicgen.decoder.layers.18.encoder_attn.k_proj.weight torch.Size([1024, 1024])\n",
      "musicgen.decoder.layers.18.encoder_attn.v_proj.weight torch.Size([1024, 1024])\n",
      "musicgen.decoder.layers.18.encoder_attn.q_proj.weight torch.Size([1024, 1024])\n",
      "musicgen.decoder.layers.18.encoder_attn.out_proj.weight torch.Size([1024, 1024])\n",
      "musicgen.decoder.layers.18.encoder_attn_layer_norm.weight torch.Size([1024])\n",
      "musicgen.decoder.layers.18.encoder_attn_layer_norm.bias torch.Size([1024])\n",
      "musicgen.decoder.layers.18.fc1.weight torch.Size([4096, 1024])\n",
      "musicgen.decoder.layers.18.fc2.weight torch.Size([1024, 4096])\n",
      "musicgen.decoder.layers.18.final_layer_norm.weight torch.Size([1024])\n",
      "musicgen.decoder.layers.18.final_layer_norm.bias torch.Size([1024])\n",
      "musicgen.decoder.layers.19.self_attn.k_proj.weight torch.Size([1024, 1024])\n",
      "musicgen.decoder.layers.19.self_attn.v_proj.weight torch.Size([1024, 1024])\n",
      "musicgen.decoder.layers.19.self_attn.q_proj.weight torch.Size([1024, 1024])\n",
      "musicgen.decoder.layers.19.self_attn.out_proj.weight torch.Size([1024, 1024])\n",
      "musicgen.decoder.layers.19.self_attn_layer_norm.weight torch.Size([1024])\n",
      "musicgen.decoder.layers.19.self_attn_layer_norm.bias torch.Size([1024])\n",
      "musicgen.decoder.layers.19.encoder_attn.k_proj.weight torch.Size([1024, 1024])\n",
      "musicgen.decoder.layers.19.encoder_attn.v_proj.weight torch.Size([1024, 1024])\n",
      "musicgen.decoder.layers.19.encoder_attn.q_proj.weight torch.Size([1024, 1024])\n",
      "musicgen.decoder.layers.19.encoder_attn.out_proj.weight torch.Size([1024, 1024])\n",
      "musicgen.decoder.layers.19.encoder_attn_layer_norm.weight torch.Size([1024])\n",
      "musicgen.decoder.layers.19.encoder_attn_layer_norm.bias torch.Size([1024])\n",
      "musicgen.decoder.layers.19.fc1.weight torch.Size([4096, 1024])\n",
      "musicgen.decoder.layers.19.fc2.weight torch.Size([1024, 4096])\n",
      "musicgen.decoder.layers.19.final_layer_norm.weight torch.Size([1024])\n",
      "musicgen.decoder.layers.19.final_layer_norm.bias torch.Size([1024])\n",
      "musicgen.decoder.layers.20.self_attn.k_proj.weight torch.Size([1024, 1024])\n",
      "musicgen.decoder.layers.20.self_attn.v_proj.weight torch.Size([1024, 1024])\n",
      "musicgen.decoder.layers.20.self_attn.q_proj.weight torch.Size([1024, 1024])\n",
      "musicgen.decoder.layers.20.self_attn.out_proj.weight torch.Size([1024, 1024])\n",
      "musicgen.decoder.layers.20.self_attn_layer_norm.weight torch.Size([1024])\n",
      "musicgen.decoder.layers.20.self_attn_layer_norm.bias torch.Size([1024])\n",
      "musicgen.decoder.layers.20.encoder_attn.k_proj.weight torch.Size([1024, 1024])\n",
      "musicgen.decoder.layers.20.encoder_attn.v_proj.weight torch.Size([1024, 1024])\n",
      "musicgen.decoder.layers.20.encoder_attn.q_proj.weight torch.Size([1024, 1024])\n",
      "musicgen.decoder.layers.20.encoder_attn.out_proj.weight torch.Size([1024, 1024])\n",
      "musicgen.decoder.layers.20.encoder_attn_layer_norm.weight torch.Size([1024])\n",
      "musicgen.decoder.layers.20.encoder_attn_layer_norm.bias torch.Size([1024])\n",
      "musicgen.decoder.layers.20.fc1.weight torch.Size([4096, 1024])\n",
      "musicgen.decoder.layers.20.fc2.weight torch.Size([1024, 4096])\n",
      "musicgen.decoder.layers.20.final_layer_norm.weight torch.Size([1024])\n",
      "musicgen.decoder.layers.20.final_layer_norm.bias torch.Size([1024])\n",
      "musicgen.decoder.layers.21.self_attn.k_proj.weight torch.Size([1024, 1024])\n",
      "musicgen.decoder.layers.21.self_attn.v_proj.weight torch.Size([1024, 1024])\n",
      "musicgen.decoder.layers.21.self_attn.q_proj.weight torch.Size([1024, 1024])\n",
      "musicgen.decoder.layers.21.self_attn.out_proj.weight torch.Size([1024, 1024])\n",
      "musicgen.decoder.layers.21.self_attn_layer_norm.weight torch.Size([1024])\n",
      "musicgen.decoder.layers.21.self_attn_layer_norm.bias torch.Size([1024])\n",
      "musicgen.decoder.layers.21.encoder_attn.k_proj.weight torch.Size([1024, 1024])\n",
      "musicgen.decoder.layers.21.encoder_attn.v_proj.weight torch.Size([1024, 1024])\n",
      "musicgen.decoder.layers.21.encoder_attn.q_proj.weight torch.Size([1024, 1024])\n",
      "musicgen.decoder.layers.21.encoder_attn.out_proj.weight torch.Size([1024, 1024])\n",
      "musicgen.decoder.layers.21.encoder_attn_layer_norm.weight torch.Size([1024])\n",
      "musicgen.decoder.layers.21.encoder_attn_layer_norm.bias torch.Size([1024])\n",
      "musicgen.decoder.layers.21.fc1.weight torch.Size([4096, 1024])\n",
      "musicgen.decoder.layers.21.fc2.weight torch.Size([1024, 4096])\n",
      "musicgen.decoder.layers.21.final_layer_norm.weight torch.Size([1024])\n",
      "musicgen.decoder.layers.21.final_layer_norm.bias torch.Size([1024])\n",
      "musicgen.decoder.layers.22.self_attn.k_proj.weight torch.Size([1024, 1024])\n",
      "musicgen.decoder.layers.22.self_attn.v_proj.weight torch.Size([1024, 1024])\n",
      "musicgen.decoder.layers.22.self_attn.q_proj.weight torch.Size([1024, 1024])\n",
      "musicgen.decoder.layers.22.self_attn.out_proj.weight torch.Size([1024, 1024])\n",
      "musicgen.decoder.layers.22.self_attn_layer_norm.weight torch.Size([1024])\n",
      "musicgen.decoder.layers.22.self_attn_layer_norm.bias torch.Size([1024])\n",
      "musicgen.decoder.layers.22.encoder_attn.k_proj.weight torch.Size([1024, 1024])\n",
      "musicgen.decoder.layers.22.encoder_attn.v_proj.weight torch.Size([1024, 1024])\n",
      "musicgen.decoder.layers.22.encoder_attn.q_proj.weight torch.Size([1024, 1024])\n",
      "musicgen.decoder.layers.22.encoder_attn.out_proj.weight torch.Size([1024, 1024])\n",
      "musicgen.decoder.layers.22.encoder_attn_layer_norm.weight torch.Size([1024])\n",
      "musicgen.decoder.layers.22.encoder_attn_layer_norm.bias torch.Size([1024])\n",
      "musicgen.decoder.layers.22.fc1.weight torch.Size([4096, 1024])\n",
      "musicgen.decoder.layers.22.fc2.weight torch.Size([1024, 4096])\n",
      "musicgen.decoder.layers.22.final_layer_norm.weight torch.Size([1024])\n",
      "musicgen.decoder.layers.22.final_layer_norm.bias torch.Size([1024])\n",
      "musicgen.decoder.layers.23.self_attn.k_proj.weight torch.Size([1024, 1024])\n",
      "musicgen.decoder.layers.23.self_attn.v_proj.weight torch.Size([1024, 1024])\n",
      "musicgen.decoder.layers.23.self_attn.q_proj.weight torch.Size([1024, 1024])\n",
      "musicgen.decoder.layers.23.self_attn.out_proj.weight torch.Size([1024, 1024])\n",
      "musicgen.decoder.layers.23.self_attn_layer_norm.weight torch.Size([1024])\n",
      "musicgen.decoder.layers.23.self_attn_layer_norm.bias torch.Size([1024])\n",
      "musicgen.decoder.layers.23.encoder_attn.k_proj.weight torch.Size([1024, 1024])\n",
      "musicgen.decoder.layers.23.encoder_attn.v_proj.weight torch.Size([1024, 1024])\n",
      "musicgen.decoder.layers.23.encoder_attn.q_proj.weight torch.Size([1024, 1024])\n",
      "musicgen.decoder.layers.23.encoder_attn.out_proj.weight torch.Size([1024, 1024])\n",
      "musicgen.decoder.layers.23.encoder_attn_layer_norm.weight torch.Size([1024])\n",
      "musicgen.decoder.layers.23.encoder_attn_layer_norm.bias torch.Size([1024])\n",
      "musicgen.decoder.layers.23.fc1.weight torch.Size([4096, 1024])\n",
      "musicgen.decoder.layers.23.fc2.weight torch.Size([1024, 4096])\n",
      "musicgen.decoder.layers.23.final_layer_norm.weight torch.Size([1024])\n",
      "musicgen.decoder.layers.23.final_layer_norm.bias torch.Size([1024])\n",
      "musicgen.decoder.layer_norm.weight torch.Size([1024])\n",
      "musicgen.decoder.layer_norm.bias torch.Size([1024])\n",
      "image_projection.0.block.0.weight torch.Size([512, 512])\n",
      "image_projection.0.block.0.bias torch.Size([512])\n",
      "image_projection.0.block.2.weight torch.Size([512])\n",
      "image_projection.0.block.2.bias torch.Size([512])\n",
      "image_projection.1.0.weight torch.Size([512, 512])\n",
      "image_projection.1.0.bias torch.Size([512])\n",
      "image_projection.1.1.weight torch.Size([512])\n",
      "image_projection.1.1.bias torch.Size([512])\n",
      "roundness_projection.0.weight torch.Size([64, 1])\n",
      "roundness_projection.0.bias torch.Size([64])\n",
      "roundness_projection.2.weight torch.Size([64])\n",
      "roundness_projection.2.bias torch.Size([64])\n",
      "roundness_projection.3.weight torch.Size([128, 64])\n",
      "roundness_projection.3.bias torch.Size([128])\n",
      "roundness_projection.4.weight torch.Size([128])\n",
      "roundness_projection.4.bias torch.Size([128])\n",
      "modality_fusion.0.weight torch.Size([256, 640])\n",
      "modality_fusion.0.bias torch.Size([256])\n",
      "modality_fusion.2.weight torch.Size([256])\n",
      "modality_fusion.2.bias torch.Size([256])\n",
      "modality_fusion.3.weight torch.Size([512, 256])\n",
      "modality_fusion.3.bias torch.Size([512])\n",
      "modality_fusion.5.weight torch.Size([512])\n",
      "modality_fusion.5.bias torch.Size([512])\n",
      "float_to_int_converter.scale torch.Size([512])\n",
      "float_to_int_converter.offset torch.Size([512])\n",
      "musicgen_to_encodec_channels.weight torch.Size([1, 1024])\n",
      "musicgen_to_encodec_channels.bias torch.Size([1])\n"
     ]
    }
   ],
   "source": [
    "for name, param in model.named_parameters():\n",
    "    if param.requires_grad:\n",
    "        print(name, param.shape)"
   ]
  },
  {
   "cell_type": "markdown",
   "metadata": {},
   "source": [
    "### Training the model"
   ]
  },
  {
   "cell_type": "code",
   "execution_count": 9,
   "metadata": {},
   "outputs": [],
   "source": [
    "# optimizer\n",
    "import torch.optim as optim\n",
    "\n",
    "\n",
    "# hyper parameters\n",
    "patience = 5\n",
    "epochs = 50\n",
    "\n",
    "trainable_params = [\n",
    "    param for param in model.parameters() if param.requires_grad\n",
    "]\n",
    "\n",
    "optimizer = optim.AdamW(\n",
    "    trainable_params,\n",
    "    lr=0.001,\n",
    "    betas=(0.9, 0.999),\n",
    "    eps=1e-08,\n",
    "    weight_decay=1e-5\n",
    ")\n",
    "\n",
    "# optimizer = optim.Adam(\n",
    "#     trainable_params,\n",
    "#     lr=0.001,\n",
    "#     betas=(0.9, 0.999),\n",
    "#     eps=1e-08,\n",
    "#     weight_decay=1e-5\n",
    "# )\n",
    "\n",
    "# scheduler = torch.optim.lr_scheduler.ReduceLROnPlateau(\n",
    "#     optimizer,\n",
    "#     mode='min',  # minimize validation loss\n",
    "#     factor=0.5,  # reduce learning rate by half\n",
    "#     patience=2,  # wait for 2 epochs before reducing lr\n",
    "#     min_lr=1e-6  # minimum learning rate\n",
    "# )\n",
    "\n",
    "# scheduler = optim.lr_scheduler.StepLR(\n",
    "#     optimizer,\n",
    "#     step_size=5,  # reduce learning rate every 5 epochs\n",
    "#     gamma=0.5     # multiply lr by 0.5 each step\n",
    "# )\n",
    "\n",
    "scheduler = torch.optim.lr_scheduler.CosineAnnealingLR(\n",
    "    optimizer,\n",
    "    T_max=epochs,  # total number of epochs\n",
    "    eta_min=1e-6   # minimum learning rate\n",
    ")"
   ]
  },
  {
   "cell_type": "code",
   "execution_count": 10,
   "metadata": {},
   "outputs": [
    {
     "name": "stderr",
     "output_type": "stream",
     "text": [
      "Epoch 1/50 - Training:   0%|          | 0/20 [00:00<?, ?it/s]c:\\Users\\qkm20\\anaconda3\\envs\\fyp\\Lib\\site-packages\\transformers\\models\\musicgen\\modeling_musicgen.py:539: UserWarning: 1Torch was not compiled with flash attention. (Triggered internally at C:\\actions-runner\\_work\\pytorch\\pytorch\\builder\\windows\\pytorch\\aten\\src\\ATen\\native\\transformers\\cuda\\sdp_utils.cpp:555.)\n",
      "  attn_output = torch.nn.functional.scaled_dot_product_attention(\n",
      "                                                                                            \r"
     ]
    },
    {
     "name": "stdout",
     "output_type": "stream",
     "text": [
      "Epoch 1/50, Training Loss: 1627.8531, Validation Loss: 1623.5498, Learning Rate: 0.001\n"
     ]
    },
    {
     "name": "stderr",
     "output_type": "stream",
     "text": [
      "                                                                                            \r"
     ]
    },
    {
     "name": "stdout",
     "output_type": "stream",
     "text": [
      "Epoch 2/50, Training Loss: 1652.9379, Validation Loss: 1625.8144, Learning Rate: 0.001\n",
      "No improvement for 1/5 epochs.\n"
     ]
    },
    {
     "name": "stderr",
     "output_type": "stream",
     "text": [
      "                                                                                            \r"
     ]
    },
    {
     "name": "stdout",
     "output_type": "stream",
     "text": [
      "Epoch 3/50, Training Loss: 1619.3323, Validation Loss: 1645.3043, Learning Rate: 0.001\n",
      "No improvement for 2/5 epochs.\n"
     ]
    },
    {
     "name": "stderr",
     "output_type": "stream",
     "text": [
      "                                                                                            \r"
     ]
    },
    {
     "name": "stdout",
     "output_type": "stream",
     "text": [
      "Epoch 4/50, Training Loss: 1630.6898, Validation Loss: 1615.6881, Learning Rate: 0.001\n"
     ]
    },
    {
     "name": "stderr",
     "output_type": "stream",
     "text": [
      "                                                                                            \r"
     ]
    },
    {
     "name": "stdout",
     "output_type": "stream",
     "text": [
      "Epoch 5/50, Training Loss: 1602.1616, Validation Loss: 1652.6714, Learning Rate: 0.001\n",
      "No improvement for 1/5 epochs.\n"
     ]
    },
    {
     "name": "stderr",
     "output_type": "stream",
     "text": [
      "                                                                                            \r"
     ]
    },
    {
     "name": "stdout",
     "output_type": "stream",
     "text": [
      "Epoch 6/50, Training Loss: 1614.1641, Validation Loss: 1623.6100, Learning Rate: 0.001\n",
      "No improvement for 2/5 epochs.\n"
     ]
    },
    {
     "name": "stderr",
     "output_type": "stream",
     "text": [
      "                                                                                            \r"
     ]
    },
    {
     "name": "stdout",
     "output_type": "stream",
     "text": [
      "Epoch 7/50, Training Loss: 1599.1917, Validation Loss: 1620.3163, Learning Rate: 0.001\n",
      "No improvement for 3/5 epochs.\n"
     ]
    },
    {
     "name": "stderr",
     "output_type": "stream",
     "text": [
      "                                                                                            \r"
     ]
    },
    {
     "name": "stdout",
     "output_type": "stream",
     "text": [
      "Epoch 8/50, Training Loss: 1626.5042, Validation Loss: 1617.4501, Learning Rate: 0.001\n",
      "No improvement for 4/5 epochs.\n"
     ]
    },
    {
     "name": "stderr",
     "output_type": "stream",
     "text": [
      "                                                                                            "
     ]
    },
    {
     "name": "stdout",
     "output_type": "stream",
     "text": [
      "Epoch 9/50, Training Loss: 1611.5755, Validation Loss: 1616.1957, Learning Rate: 0.001\n",
      "No improvement for 5/5 epochs.\n",
      "Early stopping triggered.\n"
     ]
    },
    {
     "name": "stderr",
     "output_type": "stream",
     "text": [
      "\r"
     ]
    }
   ],
   "source": [
    "# train model\n",
    "train_multimodal_earcon_model(\n",
    "    model=model,\n",
    "    train_dataloader=train_loader,\n",
    "    val_dataloader=val_loader,\n",
    "    optimizer=optimizer,\n",
    "    epochs=epochs,\n",
    "    patience=patience,\n",
    ")"
   ]
  },
  {
   "cell_type": "code",
   "execution_count": 11,
   "metadata": {},
   "outputs": [],
   "source": [
    "version = \"7\""
   ]
  },
  {
   "cell_type": "code",
   "execution_count": 12,
   "metadata": {},
   "outputs": [
    {
     "name": "stdout",
     "output_type": "stream",
     "text": [
      "Model saved to outputs\\MusicGenModel_07.pt\n"
     ]
    }
   ],
   "source": [
    "save_multimodal_model(model, filename=f\"MusicGenModel_0{version}\")"
   ]
  },
  {
   "cell_type": "markdown",
   "metadata": {},
   "source": [
    "## Testing"
   ]
  },
  {
   "cell_type": "code",
   "execution_count": 13,
   "metadata": {},
   "outputs": [],
   "source": [
    "# import relevant libraries\n",
    "import pandas as pd\n",
    "import torch\n",
    "import random\n",
    "\n",
    "\n",
    "random.seed(42)\n",
    "device = \"cuda\" if torch.cuda.is_available() else \"cpu\"\n",
    "pd.set_option('display.max_columns', None)"
   ]
  },
  {
   "cell_type": "code",
   "execution_count": 14,
   "metadata": {},
   "outputs": [
    {
     "name": "stderr",
     "output_type": "stream",
     "text": [
      "f:\\OneDrive - Nanyang Technological University\\FYP\\FYP\\utils\\musicgen_model.py:368: FutureWarning: You are using `torch.load` with `weights_only=False` (the current default value), which uses the default pickle module implicitly. It is possible to construct malicious pickle data which will execute arbitrary code during unpickling (See https://github.com/pytorch/pytorch/blob/main/SECURITY.md#untrusted-models for more details). In a future release, the default value for `weights_only` will be flipped to `True`. This limits the functions that could be executed during unpickling. Arbitrary objects will no longer be allowed to be loaded via this mode unless they are explicitly allowlisted by the user via `torch.serialization.add_safe_globals`. We recommend you start setting `weights_only=True` for any use case where you don't have full control of the loaded file. Please open an issue on GitHub for any issues related to this experimental feature.\n",
      "  model_checkpoint = torch.load(model_path, map_location=model.device)\n"
     ]
    },
    {
     "name": "stdout",
     "output_type": "stream",
     "text": [
      "Model loaded from outputs/MusicGenModel_07.pt\n"
     ]
    }
   ],
   "source": [
    "# Loading model\n",
    "from utils.musicgen_model import *\n",
    "\n",
    "model = MultimodalEarconGenerator(\n",
    "    freeze_musicgen_text_encoder=model_options[\"freeze_musicgen_text_encoder\"],\n",
    "    freeze_musicgen_decoder=model_options[\"freeze_musicgen_decoder\"],\n",
    "    freeze_encodec=model_options[\"freeze_encodec\"],\n",
    "    num_projection_layers=model_options[\"num_projection_layers\"],\n",
    "    fusion_hidden_dims=model_options[\"fusion_hidden_dims\"])\n",
    "model = load_multimodal_model(model, model_path=f\"outputs/MusicGenModel_0{version}.pt\")"
   ]
  },
  {
   "cell_type": "code",
   "execution_count": 15,
   "metadata": {},
   "outputs": [
    {
     "data": {
      "text/plain": [
       "[12, 52, 57, 71, 114, 125, 140, 327, 377, 379]"
      ]
     },
     "execution_count": 15,
     "metadata": {},
     "output_type": "execute_result"
    }
   ],
   "source": [
    "# choose 10 unique random image/earcon pairs for testing\n",
    "elements = random.sample(range(0, len(test_df)), 10)\n",
    "elements.sort()\n",
    "elements"
   ]
  },
  {
   "cell_type": "code",
   "execution_count": 18,
   "metadata": {},
   "outputs": [],
   "source": [
    "# generate the audio for the selected pairs\n",
    "from transformers import T5Tokenizer\n",
    "\n",
    "\n",
    "audio_list = []\n",
    "tokenizer = T5Tokenizer.from_pretrained(\"facebook/musicgen-small\")\n",
    "\n",
    "for i in range(len(elements)):\n",
    "    audio_list.append(\n",
    "        generate_earcon(\n",
    "            model,\n",
    "            test_df[\"image_features\"].iloc[elements[i]],\n",
    "            test_df[\"roundness\"].iloc[elements[i]],\n",
    "        )\n",
    "    )"
   ]
  },
  {
   "cell_type": "code",
   "execution_count": 17,
   "metadata": {},
   "outputs": [],
   "source": [
    "from IPython.display import Audio, display, Image\n",
    "\n",
    "\n",
    "def display_image(image_path):\n",
    "    display(Image(filename=image_path))\n",
    "\n",
    "\n",
    "def play_audio(filepath):\n",
    "    display(Audio(filepath))\n",
    "\n",
    "\n",
    "def play_generated_audio(audio, sampling_rate=24000):\n",
    "    display(Audio(audio[0].cpu().numpy(), rate=sampling_rate))"
   ]
  },
  {
   "cell_type": "code",
   "execution_count": 19,
   "metadata": {},
   "outputs": [
    {
     "name": "stdout",
     "output_type": "stream",
     "text": [
      "Image 1:\n"
     ]
    },
    {
     "data": {
      "image/jpeg": "[encoded data removed]",
      "text/plain": [
       "<IPython.core.display.Image object>"
      ]
     },
     "metadata": {},
     "output_type": "display_data"
    },
    {
     "name": "stdout",
     "output_type": "stream",
     "text": [
      "Original Paired Earcon 1:\n"
     ]
    },
    {
     "data": {
      "text/html": [
       "\n",
       "                <audio  controls=\"controls\" >\n",
       "                    <source src=\"data:audio/wav;base64,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\" type=\"audio/wav\" />\n",
       "                    Your browser does not support the audio element.\n",
       "                </audio>\n",
       "              "
      ],
      "text/plain": [
       "<IPython.lib.display.Audio object>"
      ]
     },
     "metadata": {},
     "output_type": "display_data"
    },
    {
     "name": "stdout",
     "output_type": "stream",
     "text": [
      "Generated Earcon 1:\n"
     ]
    },
    {
     "data": {
      "text/html": [
       "\n",
       "                <audio  controls=\"controls\" >\n",
       "                    <source src=\"data:audio/wav;base64,UklGRiQEAABXQVZFZm10IBAAAAABAAEAwF0AAIC7AAACABAAZGF0YQAEAACOF/0ZsBk3H0wpii0lL3kygDI2JxoX/Amh/X3wkeiH5Irfqdxs34/jouUp7dj6Nv/G9aPqmts10NHB/rRMtbTJuu+YEesdshfmB3bwCuIG6wsELR5mKlYlbRR8CPsJHw5LDGYGLP9d/p//SgAtBvgRHBXNBxb4Ce8061/sXuws5FfUQ8a5wljH7c8h2SvhNOVU4lzV58NEumG6WMcK17Df6t+R2FPKprvet5W/lc/53w/jWdmD0erZ1PNyE2oneSTnCYzl0sYmtkKyYbc1v6PH5caFv8u4Ia0/nqmUKpUcmrygvqchq/uxyr5Az7XSlNDwxsC7grh/xuLbfeyA8XXtRuFC0wjQfNdX5tjw2+4M4DDFULQyqXaia5SQjfKMIJEym9mkbKJukmGCAYAPjaaehKOmoICdBJxxnluiMK7qwizVK+QM6aPlBNzo0rDJfcpMz/LQCst7vIirtZ+wnTCkFLN3wVPCfLqyri6m+J6NqL+4W8Hvya/W2ODO4LLVuMNYtfKyoLxkzuXib/Pw+8L0K+t06GjmMNxc007Z0eQa5krZTMriwO7BLM023qvrtfLx8VLlONDcvIO3XsEIx9nA/KrHkBuI2Y0CmSSgYqi2qk6p+6vjt/jJyt0B6Szg9dLHxsm8pL3Ow+PDyMXvy+bVSOLv7sL3V/Yh7QXpjezE7DToC+Vz44HeXNc11WDPl8hHwuq9i7zZwWnIyMqGyJDCWbzDvu/OSODl4I7SY75xqyae/J/Hrw++ssAVvLS9B8e/0U7W4McnrA+XW5H6mq6yaNCE5ivtk+Lv1yrdxeaI7pTrl9qFzJvE6srN13veztuu1APIfb7Evw3M+eOn9jcAwvyu8Vzq9Ogt7+77SwUCBBr8Ze733oLY5t+Y7QL08vJ68bHpytTlyW7GBNXP51H2n/zsAZASwyckMyY1QTVoKL0OXfnJ8Qr+swqpF2sSrP4K6dLgRegw88j38PWL7kHlGOZc7JXo4tjZx6K9zsEkzA3YrN0G1/jHL7l+tO69dsy04530S/4JAVH0M9xyvTOnwJ8jqsHAVuJGBRchay9fNPMpdxRg/ZDkFc15wirCssY7yzLRiN36513tuevL4fbfVeNZ6OzoSOIcz5qvv5O3jgGkvLx8yVzEvLNdoGmUzZX9mfqaxo9+h3CNlZ72sIfAAc090ejKpMMPzKfgw+2v6wXYv8npw/zETc1/11faCNQfyafCu8gS0oPRLci6x/rM7tC70BXRqdd34fbnNeZV3avXENQT1BrdR+KI4iDWlspVxcDIjNV01+3Z18oqsxOcV5B5mme2QM7u02rLrbroqiilP6jAsO2/PdHr3frflNvs0V7UJ+SH96f/+/Va5aLj\" type=\"audio/wav\" />\n",
       "                    Your browser does not support the audio element.\n",
       "                </audio>\n",
       "              "
      ],
      "text/plain": [
       "<IPython.lib.display.Audio object>"
      ]
     },
     "metadata": {},
     "output_type": "display_data"
    },
    {
     "name": "stdout",
     "output_type": "stream",
     "text": [
      "Image 2:\n"
     ]
    },
    {
     "data": {
      "image/jpeg": "[encoded data removed]",
      "text/plain": [
       "<IPython.core.display.Image object>"
      ]
     },
     "metadata": {},
     "output_type": "display_data"
    },
    {
     "name": "stdout",
     "output_type": "stream",
     "text": [
      "Original Paired Earcon 2:\n"
     ]
    },
    {
     "data": {
      "text/html": [
       "\n",
       "                <audio  controls=\"controls\" >\n",
       "                    <source src=\"data:audio/wav;base64,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\" type=\"audio/wav\" />\n",
       "                    Your browser does not support the audio element.\n",
       "                </audio>\n",
       "              "
      ],
      "text/plain": [
       "<IPython.lib.display.Audio object>"
      ]
     },
     "metadata": {},
     "output_type": "display_data"
    },
    {
     "name": "stdout",
     "output_type": "stream",
     "text": [
      "Generated Earcon 2:\n"
     ]
    },
    {
     "data": {
      "text/html": [
       "\n",
       "                <audio  controls=\"controls\" >\n",
       "                    <source src=\"data:audio/wav;base64,UklGRiQEAABXQVZFZm10IBAAAAABAAEAwF0AAIC7AAACABAAZGF0YQAEAACSFwEatBldIn4pvyxaLvgy4DJtJ0EX6AoL/hHxNOnm5uffAt3G3+rj9uXs7wX7b/9J+WXp/duS0EPEPLWEtfTJCPDuEUIeDBiUBdvudOJx69kBcx76KoslnxSzCD4KaA6TDPIFgP+4/qoAlgD5BUgTcBUeCGP4FO96653smew34qTUksb6worH+M9z2NfgbuXg4LPUoMVTuHO6cscs18/f/t+g2GfKwLvFuKS/ns/n3evic9mp0RXa/PKcE0QmHiT0CPzlDMdftoGy17Z+v+vHJMe0v/G4QK1Wnr2UQ5U4mteg3adHqyuy/r5yz+HSN9ARx4C7pbicxRjctey08aPtT99u03bP49eJ5gHx1+5x3ibGXrRxq4aiSJaNje+MKZFEm+2kMKMdkl6CAYAWjbGei6OjoG+d6ZtRnj+iIq7qwjfVcuIf6brlItwL08/Jactbz2LRHMuQvJ6rx5+9nTukJrORwfLCm7rGrkCmEZ+wqOq4icEeyuHWEeEP4frVAcSgtTmzXbu1zjLjnPMn/OH1Vusv6JvmZ9yX04bZAuVF5ljafsoewS7Cac0G3tHr0/IQ8j3mYdD/vOe69sEcx+zAZanZkC2IBI8VmTSgbKi9qlap3KnWtQrKBt8R6SLjrdXNxsi8nr3KwxTFwsUsy9PTSuLs7rj3R/YP7Q7pj+zN7Dzo3uRz43/eWtc11V/Pkchcwya9CbvXwW7IBcmJyJPCXrwEv/TOTeDm4IjSVr5jqxme8J+7rwW+qcALvK69Ccdd0ljW4MfZrAOXU5FQm62yl89l5zjtneL11y7dzOaW7o3sN92czK3E+Mrc1zrdZdxt1BHIh77Nv17OBeSy9kAAyPyx8V3q8+gs7/H7VAUMBKD5Z+7x3sba+eKU7QDxrPWG8cLp2NTvyW3Io9PW51z2q/z5AZ8SICgtM3k2TzVyKKUMV/lf9P79FQyvF3gSuv4U6dXgQujL8sb39PWW7vfkqeVu7J/o5tjZx2a/3ME8zCzYzN0j1wPGHbaNtAG+jszO47X0eQAeAWH0Ptx5vTanwp/xqPLBQ+LrAzIhhi6GNBEp2RRy/aDkW86GwkHCxsZOy6XSW92753Ttz+uj5CfebuN36AvpYuItz0mxw5O9jgmkw7yDyVPEvLNYoGOUzJVTm76ZkZCBh26NlZ77sJDAD81M0fbKk8QTzKrgWO2w61/a8srrw/7EUs2I12HaENSlybLCxsgf0pLR9MntyOnJENHj0DfRyNeR4QjoQeZ13LDXFtSq0B/dTeKM4iDWk8pTxcHIktX42+7Z1MokswmcTJBZmmG2ds7t06PKqroFqRyltqWxsOO/OdHn2wbgntuTy2HUMuSe98j/H/YY57Tj\" type=\"audio/wav\" />\n",
       "                    Your browser does not support the audio element.\n",
       "                </audio>\n",
       "              "
      ],
      "text/plain": [
       "<IPython.lib.display.Audio object>"
      ]
     },
     "metadata": {},
     "output_type": "display_data"
    },
    {
     "name": "stdout",
     "output_type": "stream",
     "text": [
      "Image 3:\n"
     ]
    },
    {
     "data": {
      "image/jpeg": "[encoded data removed]",
      "text/plain": [
       "<IPython.core.display.Image object>"
      ]
     },
     "metadata": {},
     "output_type": "display_data"
    },
    {
     "name": "stdout",
     "output_type": "stream",
     "text": [
      "Original Paired Earcon 3:\n"
     ]
    },
    {
     "data": {
      "text/html": [
       "\n",
       "                <audio  controls=\"controls\" >\n",
       "                    <source src=\"data:audio/wav;base64,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\" type=\"audio/wav\" />\n",
       "                    Your browser does not support the audio element.\n",
       "                </audio>\n",
       "              "
      ],
      "text/plain": [
       "<IPython.lib.display.Audio object>"
      ]
     },
     "metadata": {},
     "output_type": "display_data"
    },
    {
     "name": "stdout",
     "output_type": "stream",
     "text": [
      "Generated Earcon 3:\n"
     ]
    },
    {
     "data": {
      "text/html": [
       "\n",
       "                <audio  controls=\"controls\" >\n",
       "                    <source src=\"data:audio/wav;base64,UklGRiQEAABXQVZFZm10IBAAAAABAAEAwF0AAIC7AAACABAAZGF0YQAEAACHF/YZLBz+HzEpXi0uLR8yCTK8JrMWSwpC/R7wMegb5AvfJNzv3hnjpOUy70n6WPwT97joWtv1z6vDr7T7tG7Jhu9sEcAdihfHB6vxB+IF698E6x0RKvYkChSsBaMJzA34C08Fsv/9/en/3v9SBawR0RSCB9r3NeuR50rpRuwg5FfUR8axwjjHs8/L2EbgmOUB4hLVXMUbuDC6HsfB1mLfpN8r2JXJh7vTt32/Jc3e3wPhHdkSz7HZVvOFEl8msiPBCXPlwsYdtkKyY7fovoXHrsZEv5a4/awpnpqUFpX3mY+go6cgq2qyxcEIzXXSzM+wxi27W7g+xivdRexD8Tztid8W0xzPidcx5qbwl+8W3vTEjbFeqFmiIJZmjcqMr5Eqm9WkZaJokl+CAYAMjcqcKaJWoHqd+ZuenUyiIa7ZwhjVIuMH6avlE9yj0bLJacosz+nQ8MpkvHCrg6GfnSKkC7PJwljCfrkFsHKkAZ+ZqNe4gMESysTW4uDR4K/Vs8NvtveyI75szuniYfTp+671Eev/5+zm6dtS00TZx+QZ5jzaNckNwR/CWs1T3rDrpvLe8Q3mPNBPulm7XsECx93AtKrukEOIjY4CmQahUaitqlapBKvotc/KsOAA5h3jr9XZxtu8rb3OwxPFwcXmy9vVNeJ37ZH3HPbp7JPqZuz460bnAOV244reY9cy1VDPeshGw9S9BbvEwU7Ic8psyHbCRLyyvt/OMuDL4G/SRL5dqyCeAKCIrQ6+rcAQvBC9CMdX0ljWS8f3rCCXaJFdm7Gyk89a5yztKuPT2SrdwuaE7pPrGN7OyJzE28oq1GbeSNyy1BLIK7/Qv1TOBuST9qP/tPxw81Dq5+gb79b7MQXpAwT8Ve7t3ujW+uKP7UzxpPUt9L3pxtfnyV7I79Sz5zH2ffzIAWUS4CfpNEE2HTVIKIkNRvlP9OP96gt2F3oRkP6x58PgK+gK85z3xvVp7ivlg+VG7EToxtjHx12/1MEwzBrYtt0N1/zHNLmRsPC9bdD74IT0PgDeAN3xENzbuimnyqEaqtnBTuMcBekgLy4FMeEpcBSl/Y3kUM7hwkLCx8ZOy6DSTN2h51btuOuZ5IveZ+Ns6PzoHOIqz1uxW5XhjhqkvrxwyfPE/rN9oBCU8ZVtmxabp5Cah4aNpZ4DsZLAC81F0fLKHcNay6LgUe+Z6+rX4MrZw+3EOs1j1zfa7dOSyaXCt8gJ0nbR2MkDyPnM+dDR0CzR6NRv4eHnH+ZI3abXB9EF1P/cyuNm4gnWjcpXxSHGkNXz237a0cqQs7Gc84+8lmG2d86e1KjKtLrvqi+lzqXCsOy/OdHn3V7indtozmjULeSJ95T+/vUK52/h\" type=\"audio/wav\" />\n",
       "                    Your browser does not support the audio element.\n",
       "                </audio>\n",
       "              "
      ],
      "text/plain": [
       "<IPython.lib.display.Audio object>"
      ]
     },
     "metadata": {},
     "output_type": "display_data"
    },
    {
     "name": "stdout",
     "output_type": "stream",
     "text": [
      "Image 4:\n"
     ]
    },
    {
     "data": {
      "image/jpeg": "[encoded data removed]",
      "text/plain": [
       "<IPython.core.display.Image object>"
      ]
     },
     "metadata": {},
     "output_type": "display_data"
    },
    {
     "name": "stdout",
     "output_type": "stream",
     "text": [
      "Original Paired Earcon 4:\n"
     ]
    },
    {
     "data": {
      "text/html": [
       "\n",
       "                <audio  controls=\"controls\" >\n",
       "                    <source src=\"data:audio/wav;base64,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\" type=\"audio/wav\" />\n",
       "                    Your browser does not support the audio element.\n",
       "                </audio>\n",
       "              "
      ],
      "text/plain": [
       "<IPython.lib.display.Audio object>"
      ]
     },
     "metadata": {},
     "output_type": "display_data"
    },
    {
     "name": "stdout",
     "output_type": "stream",
     "text": [
      "Generated Earcon 4:\n"
     ]
    },
    {
     "data": {
      "text/html": [
       "\n",
       "                <audio  controls=\"controls\" >\n",
       "                    <source src=\"data:audio/wav;base64,UklGRiQEAABXQVZFZm10IBAAAAABAAEAwF0AAIC7AAACABAAZGF0YQAEAACcFw0aZB3xHwkqWyvkLUMzMjPjJ9EXdAtx/kTxSOku5SXgPt0A4LzlhuYO8G/8Hv3a93LpBNyQ0BLCKbVyterJDPD9EVEeExi/CB/yauJt63QE3B3VKrwlyBRsBmkKjQ6uDIsEmf3G/soAwwAkBmwShxUtCHX4b+8X6J7s0uyi5MvUtsYqw8HHUNCD2ZLhVuZU4p7V0MUtuaO6pMdf1wLgLuDe1ovK5bshuOm/uc9i4JrhwNmyz0ra9PMwExkndSR4Cg/mPMd5tpCytreIv/nHPMflvwu5Va1nnsqUTpVCmuCg5adNq6e01L9xzfPSSdAax367oLiwxiTcyOzF8azt2N9Y02LP3NeQ5hHxDO983kHFwLE3qXeiRpeDjeaMHJE5m+qkNqN3kmOCAYAUjbWelKObn4Cd/5uknVaiP68Aw0jVV+M66ZvkNdzG0dvJd8tvz3nRK8uQvI6rmKGnnSOkDbPOwl/Ch7nlrnWkBJ/uqty4fcESytHW/OCO4NnV1cNutQizPb6Rzh7j3/U0/Iz2/utE6KXmJtyB0zvY1uRR5mPaSMkPwRbCVM1i3tzr6/Ir8k3mZNBhumq7TcIlx/fAsarRkB+I9Y4ImR2hcajIqmSpV6kEuOTK2OA36UnjztXmxta8pL3MwxvFwsQKzHjWYeLH7dL3aPbj7trqruzq7ODoOOWm47bejddd1XrPpchxw/e9QrztwYDIGsmeyKbCbrwSvwfPY+At35nSZr5yqySe+Z+ZrA++scDNuhi9Hsd20nPW+MfqrAeXT5FOmyCyfNB951TtTeMR2PLc7ua17q3pf90BzKvE/cqT1XDb6NvC1AvIGL/Dv1zOJuTB9lQA3Pyi8HDqB+lB7wn8ugEiBDP8dO7/3onYF+O37Ynx1/Vf9Ofp5Nf/yXTIDNXe52b2tvwDAq8S8CdXNas2gDWdKCsNZ/lv9BP+pw3IF44Syv4e5uDgWOhM8+r3Ffax7mnlwOWJ7Dno8tjdx2O/2ME+zDXY1t0p1w3IF7aEtPi9gNB+4Kv0cAAXARLyOdzVuhmnr6HPqNjBbeNbBUAhmy6jNDUqAhKE/aLk3M7RwjDCusZIy6PSnt2/53Xty+uc5IXeZ+Nx6EToseAhzzKxE5W2j9+jorxoyUnEpLM+oESUqJUum96abZBbh0uNeZ7osITABc1A0ebKosMUzLngeu+/6wjY6crew/TETc2E11raBNSXyULBtchg0X3R3MlFyAPNBdHa0DLR9NSJ4QDouuVT3arXEtQU1CDd+uOU4iXWmMpaxdbIntUD3Ina0cpnr/Wb1I9Fmla2O87s05zKm7rGqv6kRqKZsNa/N9Hz3fTbpNtbzlzUNOSq99X/hvQU54fj\" type=\"audio/wav\" />\n",
       "                    Your browser does not support the audio element.\n",
       "                </audio>\n",
       "              "
      ],
      "text/plain": [
       "<IPython.lib.display.Audio object>"
      ]
     },
     "metadata": {},
     "output_type": "display_data"
    },
    {
     "name": "stdout",
     "output_type": "stream",
     "text": [
      "Image 5:\n"
     ]
    },
    {
     "data": {
      "image/jpeg": "[encoded data removed]",
      "text/plain": [
       "<IPython.core.display.Image object>"
      ]
     },
     "metadata": {},
     "output_type": "display_data"
    },
    {
     "name": "stdout",
     "output_type": "stream",
     "text": [
      "Original Paired Earcon 5:\n"
     ]
    },
    {
     "data": {
      "text/html": [
       "\n",
       "                <audio  controls=\"controls\" >\n",
       "                    <source src=\"data:audio/wav;base64,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\" type=\"audio/wav\" />\n",
       "                    Your browser does not support the audio element.\n",
       "                </audio>\n",
       "              "
      ],
      "text/plain": [
       "<IPython.lib.display.Audio object>"
      ]
     },
     "metadata": {},
     "output_type": "display_data"
    },
    {
     "name": "stdout",
     "output_type": "stream",
     "text": [
      "Generated Earcon 5:\n"
     ]
    },
    {
     "data": {
      "text/html": [
       "\n",
       "                <audio  controls=\"controls\" >\n",
       "                    <source src=\"data:audio/wav;base64,UklGRiQEAABXQVZFZm10IBAAAAABAAEAwF0AAIC7AAACABAAZGF0YQAEAACCF+8Zohn6IfEoIy3ALhwyJjKTJqQWfwkY/fHvB+i15cTe8tvK3vbi0+bO7h77JP7I9Dno3NrZzhTBQLSKtO7I7u7CEBUd6RaHB73vWeFT6kwDWB2EKWgkfBOZBycJdA2DC5IFSv5l/Vb/Wf/SBCoRVRQSB2r3au6M6qTr2evx40DTt8UmwsHGOM+y2H7ge+SJ4ZjU6sSsudO5y8Z61hvfUt/617vJC7tGt+6+l8z23njgmdjK0ELZMvJ5EWYmVyI4CRvlS8YWtvSx3LTwvlLHicYrvnq4u6z7nVmUm5W5mV2gb6fgqrSxN7+1zC7ST9KgyTm+ILj8xXHbBewR8RnteN8M0wrPZtcE5njwau+h3zrHU7H2qDii/5VPjb6MAJFRm7ik+KJJkkyCAYAdjbGetqGgoHWd+5uhnUSiDa69wvrUIuK/6FLlttu20VnJH8rrzvbQvspEvGqrjaGynTekHLN1wULChLnSrUKk0J5oqKG4QsHXyZvWx+C84KXVtMNctfqyqbxjztHiR/O3+3/04Oqt5wzmotsY0wrZieTa5f7ZKsp8v+fBKM0j3n3rcfKn8dblBtCzvFq3pb7KxqHALamukAOIrY2/mL6gCKhmqgypxKust7TJT+Cf5b7i79F6xoa8Zb2Qw9bEfsWfyyjT+eH87mL37vW17EvoKexo7DTnt+Qc4yjeBtfh1AzPRciMwqi98buXwTHIt8g7yErCIrzQvkDPDeCn4FPSLr5Jqwue4p9ireK9fMDcu32908Yg0h/Wu8fJrPyWSpFYmYyyNNAa5+PsSOGP2ejcgOZK7mjrBt1zzITEx8qj11HeLdyQ1O7Ha76tv3vO5uNz9gQAk/yB8Szqu+gn7KD7/QS5A9v7NO7T3tDWwN9t7dHwwfLz84TpndTHyaLF2tSg5yH2dfzHAWMS1yfZNCU2YTQbKH0OLPk69M/9Sg1YFyAScf7g6K7gGuj88o33sfVR7rTkbOUp7G/pydjOx12/ycEczP3Xl9311u/HEbaGtPW9dsz64Ij0Mf7pADL0HdxvvTynx58hqrPAF+KtA+ggLC4zNHUmsBFM/YXk2c7dwjfCtMY0y4DSKt3Y5z3tpOsu4/TfU+NT6N3oMuIKz5avQJWmjwukvbx7yf/E0bOAoI+UAZVfmwWblpCOh3mNk57nsG/A48wg0dHKd8T0y33gLu9769fXwsq7w87EGc1B1xTaytPwyIHClcjo0VfRusnix9HMytCh0ADRkNdW4dDnD+Yw3YXX6tN90OPcq+JF4ufVZsooxTDLXtVH18DZsMoPswWcUJBtmlC2Ws7K04LKkrrWqhylMqiwsNa/G9G93crfaNt0y0LUAuRX93b/1fXu5ovj\" type=\"audio/wav\" />\n",
       "                    Your browser does not support the audio element.\n",
       "                </audio>\n",
       "              "
      ],
      "text/plain": [
       "<IPython.lib.display.Audio object>"
      ]
     },
     "metadata": {},
     "output_type": "display_data"
    },
    {
     "name": "stdout",
     "output_type": "stream",
     "text": [
      "Image 6:\n"
     ]
    },
    {
     "data": {
      "image/jpeg": "[encoded data removed]",
      "text/plain": [
       "<IPython.core.display.Image object>"
      ]
     },
     "metadata": {},
     "output_type": "display_data"
    },
    {
     "name": "stdout",
     "output_type": "stream",
     "text": [
      "Original Paired Earcon 6:\n"
     ]
    },
    {
     "data": {
      "text/html": [
       "\n",
       "                <audio  controls=\"controls\" >\n",
       "                    <source src=\"data:audio/wav;base64,//OEZAAAAAAAAAAAAAAAAAAAAAAAWGluZwAAAA8AAAAEAAAEaABBQUFBQUFBQUFBQUFBQUFBQUFBQUFBQUGqqqqqqqqqqqqqqqqqqqqqqqqqqqqqqqqq+fn5+fn5+fn5+fn5+fn5+fn5+fn5+fn5+f////////////////////////////////8AAAA5TEFNRTMuOThyAm4AAAAALj4AABRGJARNTgAARgAABGjDN63GAAAAAAAAAAAAAAAAAAAA//OUZAAOkOVWAKY8AI5Y5oy3QxgAmb3/GCQDQAMAMCYjk9/FhgJYliWTzMSxLEsnoYhiGKBWKxWKxQIeh6Hoeh6vV6vV6GIYaBOCcE4OhciTgEABwEgIQdCsVjI8fv379+/vf///////////FKUePH6vQ9D0PZ52A5Cdk7OtRs78Pf/+HgAAAAG2AcLwH/uejuHAwMDFvu7u7u7iERERP///d3d34gGLfEAPh8v//KQfPqBDBAMcEAQM//+GPg+///ww1Gr2uHwmAxGAxGA1E4EAaYCqVcv83tMM5kuf84engHQy2ebK5UBggCOBhGBu//PEZC0cXc+LL83ZASZjfuZflKkCAwD3g2KDjQxmH+AwDgICEC4GAMCnnzQvmYGB8EwGCsHgGAwBICAogZujy+WOo6BnYIqBhQBGBguB+AKBYDA6B4DBGDAr/S+BgCAaBgQASDYyM8M0OsMJf/4AIAAbPBaKEhdga3R+gCi4AwPgoAwRgoAAAn1lz/R8DAoBMDAUAMT0IJCWhl4SkT5Fi8XiHf///hCBQMQiziDE0i6SzUmTIvEWMVHG/////SWHGDu//poeoVsafyVA4HC4nA4HA4HA4GApDDX8By4DKQfAceAy8LdQGDgmBg4DiS82Y3DLoBQFAQBQxz/AaBQN+BskGxgDQon9fwMSjgAoHBdIc4zGO//ImLJHNIsWzQh3/+TQ7yUAwGDgMikcBIQC/4BQBDov//w1cJGIDCCwjYZZEmDhmbnv///wyQWGkk6lLZaSRSMSr/////opB8I7kW/+dS1VEv+ITEnjmLcLcEeEOWSfBqhDiFKptOU0WaCy//OkZBsXtcNGA+e8AJIiZqFHwRADzQn22FWxoL3VrZYVbGgq1Wq169exW1DVDETyHMzaym6ISGpJa42unTRnTqhiwldOwobGgq1WstcPn1detdYfPtQo2Xr2jErosKNK9isRbh6lDEhW9dYtX+ta+1q+2//////61/rWvtCfV9rb9YL23zWta1181rWvxauv/a1vi1rf//Fv//8VrrFrZgvXz58+jbrBejYoKK6C+FP4FDcQZ8UVlgALbiELwh///////oYv/////////////8pStKUpWQwYF//jBT8RXxQX6XcCjsgr///+E4KCgo4KCv//BfggpsIb4U+KDDcQXipMQU1FMy45OC40qqqqqqqqqqqqqqqqqqqqqqqqqqqq//MUZB8AAACiAAAAAAAAATAAAAAAqqqq\" type=\"audio/wav\" />\n",
       "                    Your browser does not support the audio element.\n",
       "                </audio>\n",
       "              "
      ],
      "text/plain": [
       "<IPython.lib.display.Audio object>"
      ]
     },
     "metadata": {},
     "output_type": "display_data"
    },
    {
     "name": "stdout",
     "output_type": "stream",
     "text": [
      "Generated Earcon 6:\n"
     ]
    },
    {
     "data": {
      "text/html": [
       "\n",
       "                <audio  controls=\"controls\" >\n",
       "                    <source src=\"data:audio/wav;base64,UklGRiQEAABXQVZFZm10IBAAAAABAAEAwF0AAIC7AAACABAAZGF0YQAEAAB6F+cZHBzgIcgo9CzZK+kx1TGHJnIW2Qjr/Lrvweeo46Tel9qi3mXkQOVR7Nf3pv+v9lro+tqUzy/BYbS1tBvJEO/TEBcd4xZ8BCTxrOJ/6tsAsBzyKZUk3BPZB1YJdg2cC64Fgvyb/cn+av/JBA4RLRToBvX3F+4N59jodOkR5OnTzMUxwrnGIc9x2HXgLOUt4Y3UMsOzt9+538aL1iHfSt/p1x7JELvStAC/FM9N31TiltjS0FfZCfMxEvMlLiM6Cf7kasbhtRey87TCv0rHfcYnvoa4+awpnpKUBZXpmYqgnacIq0C0d8GuzBzSfs9xxv26MriDx3bb++sA8Zjryd710vnOMNcC5nXwau6X38fEaLH1qEKiFZZmjcqM/ZAKm6OkMKJGklSCAYAJjZSecaNJoHidAZynnSKiEq+6wu7U3+O86FflvttT0XLJPMoJz7HQy8pDvGGrn5+hnSCk+rKiwizCVrm5rk6k4J53qKy4TsHfyZXWs+Cj4InVm8NLtfGypLxgztPiTvPC+xX26evO57Xmttsj06/YZuTp5QbZDsnkwPXBMM0n3oHrdfKq8drlENAivWy3FMLoxsbAm6rUkCWI5o7gmOSgMqiUqkCp0qnit6nKf+BM5uDiw9KXxqG8fL2gw+zEkMTOyzDWEeJP7Wz3Bfbf7IjqVOyL7C7n4eRO42DeR9kR1TPPaMgewse9ZryowTDIj8pUyGjCQrztvlHPEuCr4F3SSr55q0OeXp2Krf29lMD6u6K9+cZF0kPWO8eUqy+Xe5GGmRSxTtAr5/Ts+eK126rcmuZf7mjpTt3by3rEucqU1/jcLNyT1PPHDL+zvzLO2ONb9un/fPxW8C7qwOjj7o374wShA8b7J+7P3tDWvd9n7STxefUB9JbpsdTXyVvG39SX5wv2V/yjATYSlSapNP411jQFKFMNIfkx9MT9OQ1BFwgSX/6J5avgGej68oz3tPUm7h/le+VC7IHp19jdx2+/3MEvzBDYp90E1wLISLmitBC+fdCk43L0JQDHANHxF9yxu3Kk6KEtqt3BMeKdA80gEi4fNL8prBFF/YXkWs4PwVnC1MZPy5jSRN2h51ztvuuY5ITePOFX6OboXuEiz12xBpXMjyOkyLyByW7EHrSjoLqUFpaLmzWb0ZDOh7WNyZ4asZ3ACc1A0aTJLMMlzKngUO+R6+rX2MrZw/TEQs1l1zDa39OEybPDtcgL0n/R6clRyAHN9tDK0CPRnNfN3t7nIuZN3avXE9QQ1Afduud14h/WqMpvxZzKj9Xr2+TZ2MqUrz2cJ5DnlnO2QM6h1HfLwroBq0ClUajOsPe/PtHl3ePblNuey2HUH+Rx943/TvT05nHj\" type=\"audio/wav\" />\n",
       "                    Your browser does not support the audio element.\n",
       "                </audio>\n",
       "              "
      ],
      "text/plain": [
       "<IPython.lib.display.Audio object>"
      ]
     },
     "metadata": {},
     "output_type": "display_data"
    },
    {
     "name": "stdout",
     "output_type": "stream",
     "text": [
      "Image 7:\n"
     ]
    },
    {
     "data": {
      "image/jpeg": "[encoded data removed]",
      "text/plain": [
       "<IPython.core.display.Image object>"
      ]
     },
     "metadata": {},
     "output_type": "display_data"
    },
    {
     "name": "stdout",
     "output_type": "stream",
     "text": [
      "Original Paired Earcon 7:\n"
     ]
    },
    {
     "data": {
      "text/html": [
       "\n",
       "                <audio  controls=\"controls\" >\n",
       "                    <source src=\"data:audio/wav;base64,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\" type=\"audio/wav\" />\n",
       "                    Your browser does not support the audio element.\n",
       "                </audio>\n",
       "              "
      ],
      "text/plain": [
       "<IPython.lib.display.Audio object>"
      ]
     },
     "metadata": {},
     "output_type": "display_data"
    },
    {
     "name": "stdout",
     "output_type": "stream",
     "text": [
      "Generated Earcon 7:\n"
     ]
    },
    {
     "data": {
      "text/html": [
       "\n",
       "                <audio  controls=\"controls\" >\n",
       "                    <source src=\"data:audio/wav;base64,UklGRiQEAABXQVZFZm10IBAAAAABAAEAwF0AAIC7AAACABAAZGF0YQAEAAC/EzQXOhvrIO0nGyygLawxzDCuJa4VAQjo+5rusObE4vPdENo/3gXi++RL7Y75Wv5O9gjosNpLzz3A77NItMrI4O62EAAdyBYEB6fvTeFM6rcAWx2MKYUkwhOyBy0JUQ13C4IFRfxT/UT/Qf+rAQURIBTVBjv3HO4j57nrzOt/4cvTrsUewqbGGs8w2KjfN+Rn4YzUQsOxudG5u8ZY1nnePN/H18PJILsfuPS+Ds9Q33Hgidhv0ADZ3vIaEvElMSM2CfLkV8bItfuxI7UsvjHHZ8YRv3O44awDnmGU15TImXugmKf/qiOyXMGLzEvUYM9axuy6JLhaxWLb6uvv8IDrrd7W0trOQtfr5WbwXe6L3yPH+LMTqyqi+ZVKjbOM75AIm6uk8qJEkk6CAYATjfmeLqJgoE6eFZy7nWGisq3Xwg/VA+Te6Hfl2Nu10nbJPcoHzwzRycpFvGirqZ+1nZWlOLNBwlvCd7n6r2ek8Z6CqLi4WsHvybLW3eDN4KjVqcNgtu2ypbxqzlnkUfTI+4z0z+qQ6Jzmo9sc09jXneT25UDZGcnrwP/BQs1C3p/rkfI38N/lCdC+vDe7QsHpxsTA8aq+kAiIxo68mLig/qdcqg2pS6rPt0/MgOBM5tvittKKxp+8iL2zw/nEpcXEyyXWD+Kv7nb3BvaH7snoU+xj7Snn2eRD41DeOtkL1THPYsimwge9WrydwSbIu8g8yEbCHLy+vMPOGOC04FzSM75Sqxue/p/IrwS+lcDvu+u85sY30jzWNMfmrBSXX5FVmxGyTdAv5/js/eIK2g7dpOZn7m3rAd63yIXEy8qv12feS9xf1AzIhb7Dv0bO9eOB9pP/O/x28AHp0ej77q375AHJA+/7S+7v3k7b9+KA7TfxifUP9KDpstTNyUfI3NSh5yL2fPzTAXAS0CbeNMMz+zQnKHMNQvkZ8uf95wtqFy8Sgv736M3gPega86X3xvVl7iTle+VC7ATo5Njtx3+/7ME9zBjYqN3/1vDFO7mFrgW+H80G4ZD0UAD2APjxKtx3vUGn3qEuqu/BTeK/A/EgQi5CNNwpbBRa/Y/kWc6Qwk/CzcZJy5HSO92Y51jtxOuo5JfeLeJr6PnoHOIwz2WxBJUKkB6ky7yJyRbF87OqoLSUBpZ3mxubrZCjh5GNsp4PsZrAC81C0fPKnsTTyq3gW++c6+rXysrEw9/EMM1Z1yza49MMyUHBscj/0WfRxskryN/M29C20BbR2NRm4d/nI+ZL3aPXAtT10+zcFuJZ4gDWg8pHxbrIc9XY22bavcqBs6uc849zml+2Os6G06rKvLoAq0OlVKjOsAK+PNHi3VXilNvx0VrUE+Rm93f+UPQE5/Tj\" type=\"audio/wav\" />\n",
       "                    Your browser does not support the audio element.\n",
       "                </audio>\n",
       "              "
      ],
      "text/plain": [
       "<IPython.lib.display.Audio object>"
      ]
     },
     "metadata": {},
     "output_type": "display_data"
    },
    {
     "name": "stdout",
     "output_type": "stream",
     "text": [
      "Image 8:\n"
     ]
    },
    {
     "data": {
      "image/jpeg": "[encoded data removed]",
      "text/plain": [
       "<IPython.core.display.Image object>"
      ]
     },
     "metadata": {},
     "output_type": "display_data"
    },
    {
     "name": "stdout",
     "output_type": "stream",
     "text": [
      "Original Paired Earcon 8:\n"
     ]
    },
    {
     "data": {
      "text/html": [
       "\n",
       "                <audio  controls=\"controls\" >\n",
       "                    <source src=\"data:audio/wav;base64,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\" type=\"audio/wav\" />\n",
       "                    Your browser does not support the audio element.\n",
       "                </audio>\n",
       "              "
      ],
      "text/plain": [
       "<IPython.lib.display.Audio object>"
      ]
     },
     "metadata": {},
     "output_type": "display_data"
    },
    {
     "name": "stdout",
     "output_type": "stream",
     "text": [
      "Generated Earcon 8:\n"
     ]
    },
    {
     "data": {
      "text/html": [
       "\n",
       "                <audio  controls=\"controls\" >\n",
       "                    <source src=\"data:audio/wav;base64,UklGRiQEAABXQVZFZm10IBAAAAABAAEAwF0AAIC7AAACABAAZGF0YQAEAACUFwQaWh2+IrYpEizZLOwyIzGcJVsXVAoJ/trw1eit5J3fid503zHjIOZe7sr6z/yG9yHpsNs50MLBHrdMtdHJ9O/bESQe3RdUBZHuKOIu6zYEnR2YKpElpxSwCCsKSA5jDLQFjf+G/osAgwDjBSYSORXgBzL4/e7z5yTtp+yD5K/UmsYMw6LHVM5Z2ebggeVV4q7V5MWRuJ66kMdC1+7fKuDX2BfKCLxMuALAAdBp4KTh0dn40Vfa9PMiEwEnVyRbCvzlNsd7tpKytLc9v+bHnsYWvwa5Xa18numUa5VXmrWi7qdZq7S02r9vzerSPtAWx4i7tbiwxSjcwOy98Tfs4d9q03nPwteg5hfxDO9+3kfFp7FvqwmkS5aUjfaMLZFJm/Wkg6J/kmuCAYAFjcichaNWoYWdCJywnT6iP64awT3VS+M06dnlY9040tbJmcpszxnRLcuKvH2rmp+MnQik8rJkwVDCgrnlrnykD5+kqNa4dMEDyrTWXODQ4K/Vr8NTtfeyt7yMzhfj0fUa/IH1Nesn6JDmi9uD01/ZveQ05kva4skIwRPCT81W3sjr0fIP8jfmWtA8vmq7esEpx//AxKrzkEeI6I4omUGhLqf0qpOpQqwouG3L5+A/6VTj4dXWw/C8uL3ZwybF5MUXzA/WYuJe78n3ZPa37OLqs+zw7GnoSeW849DesNlx1YrPtMjxwgC+nbwEwnbIGcnlx7XCerwWv4HPUuCH35bScr6Kq0SeGaC1rB67y8A1vN69OMeG0n7WV8egqymXcZFsmyyxh9CI55brZOMY2fzaWeav7qXrK979y6DE48px1UzbUNxc1PzHbb6wv0DOAeSa9jEAvfy08FHq5+gg76D4SAX/AxH8V+7q3ujW5t+l7Rvxy/VP9NLp0NfvyWjI/dTK50/2m/yjAIgSwCcnNYY2ZzWNKLgNYvlm9Ab+lQ20F3sSy/0T5tTgS+g/8973DPas7mXlw+Uh7aPo4NjPx1y/1cE8zDTY1d0p1w/IO7mDtPG9c9Bv4JX0UgD1ADz0H9xavciksqHVqNjBYePXAx0haS58NBcq8BF5/aDkWc6EwkTCzMZWy43SX92552vtweuR5H7eYeNr6EToueAzzzSxPZXij/2jdbxuye3Er7NOoFqU3ZRKm7qZk5CHh3KNlp77sJDAsMtG0fLKUcQlzL/gde+C6QbY7srqwwPFWs2P1z7ZDtQiycHDwsgd0pDR8clXyAzNKNHY0DDRvtc/4fnnNeZX3bPXG9Qc1CPd7t+X4i3WpMpmxS7GWNAD3PnZ3srcswuc64+1lkC2Rc75063KrbraqhClJKipsOS/QdH73Xnisdv/0W7UQOSu99P/l/Ue5w7k\" type=\"audio/wav\" />\n",
       "                    Your browser does not support the audio element.\n",
       "                </audio>\n",
       "              "
      ],
      "text/plain": [
       "<IPython.lib.display.Audio object>"
      ]
     },
     "metadata": {},
     "output_type": "display_data"
    },
    {
     "name": "stdout",
     "output_type": "stream",
     "text": [
      "Image 9:\n"
     ]
    },
    {
     "data": {
      "image/jpeg": "[encoded data removed]",
      "text/plain": [
       "<IPython.core.display.Image object>"
      ]
     },
     "metadata": {},
     "output_type": "display_data"
    },
    {
     "name": "stdout",
     "output_type": "stream",
     "text": [
      "Original Paired Earcon 9:\n"
     ]
    },
    {
     "data": {
      "text/html": [
       "\n",
       "                <audio  controls=\"controls\" >\n",
       "                    <source src=\"data:audio/wav;base64,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\" type=\"audio/wav\" />\n",
       "                    Your browser does not support the audio element.\n",
       "                </audio>\n",
       "              "
      ],
      "text/plain": [
       "<IPython.lib.display.Audio object>"
      ]
     },
     "metadata": {},
     "output_type": "display_data"
    },
    {
     "name": "stdout",
     "output_type": "stream",
     "text": [
      "Generated Earcon 9:\n"
     ]
    },
    {
     "data": {
      "text/html": [
       "\n",
       "                <audio  controls=\"controls\" >\n",
       "                    <source src=\"data:audio/wav;base64,UklGRiQEAABXQVZFZm10IBAAAAABAAEAwF0AAIC7AAACABAAZGF0YQAEAACCF+8Zohn6IV0p4CxbLQUyDTK/JpsWcgkN/efv+Ofn4+TeA9zK3u/iA+WI7Df6of6F+KLoOdvSz5XDorTutE/JR+8WEWMdLRdoBwjwquGn6oUE3hwiKrUk0xPsB3EJng3SCy0FqP7F/az/ov+QBWcSkhRLB5z3j+676uXr6Ou443DT7MVdwvbGZs/Z2KPgpeTA4RLUI8Xstw+6Bcev1kvfgd8p2O3JQLu5uB+/N891357gx9j60GzZpPE8Et0m4iOeCSnlV8bFtfSxSbbyv07Hg8Y0v3C41Kz5nWCU25TKmXCggaftqr6xLL/UzkfSbNLFySG7SLgcxpLbVu0s8S3t9N5v1BPPPdcO5o3wju4I3unEGrQ9q1+iL5Z9jdyMq5EVm7Gk9qLQk1GCAYAZjdycL6KkoHydqJxmnkqiGK70wRTVB+Te6Gzl0NvU0YbJVsodz8HQU8tnvI2ryp/KnU2kL7OIwYrDfLqwrmik7Z6AqLe4XMH4ycHW7eDg4MbV0sN1tQuzIbtszt7iQvPR+5L1DOvZ5zHm9Nsv0+rXr+QD5iHaR8riwO/BKs3Z25brkvLH8fLlHtDJvLW6vb7jxrfAPam9kBSIZI7emN2gI6h8qh2pqKmgtYfKg9696OffWtWFxpK8MLynw+/ElsW3yz7TEeK27oT3FPbc7NPoR+x+7ELnxeQc4zfeGNf61CvPZMg2wwe9BLyrwTnILcpSyI3BMLzfvlPNKODG4HPSS75aqxGe6J+vr/G9isDnu4O91cYh0iHWvcfNrAOXVZHxmpqybc8i5+fsT+Ky1+7ciOZO7mbrAt13zI/E1sqy1wzdONxF1PPHc764vz7O2OOC9hMApfxM8kPq0+gD7777GgXUA/L7Ru7e3tbW4eJv7dDwb/VE8X3pktS/yUTIe9Ok5yL2cfzAAVwSfyfWMh027zQaKGENLfk79NH9Tg1dFyQSdP7h6K/gHOig8pP3ufVV7g3lYOUr7HDo0NjXx3S/0cEezP3Xk93t1ubHKbmEtPy9gsy145T0UADzAD70Ldx+vUmn1J8wqujBI+IkBfEgPy46NHgmohRJ/YLkS85+wjrCucY+y4/SPN3s51HtAuuX5IXeXeNY6OLoOuIUzyux05PNjg+kvLx2yfvEB7SHoJmU8pVnmwubmJCMh3qNl57vsHvA9Mwy0eTKicQFzI7gQO9X6T/aocnNw+LEMM1b1y/a5tPzxpvCrMj80WvRzckoytTM39C10BPRoddn4ePnJeZJ3aHXBdT/0/fcG+Jc4i/TgspJxVXLgtWA293ZyMoisxacAZBnmmC2as7e017LqrruqjWlg6LEsOi/LdHM2+TfhNtXzlnUFuRp94j/5vX05pnj\" type=\"audio/wav\" />\n",
       "                    Your browser does not support the audio element.\n",
       "                </audio>\n",
       "              "
      ],
      "text/plain": [
       "<IPython.lib.display.Audio object>"
      ]
     },
     "metadata": {},
     "output_type": "display_data"
    },
    {
     "name": "stdout",
     "output_type": "stream",
     "text": [
      "Image 10:\n"
     ]
    },
    {
     "data": {
      "image/jpeg": "[encoded data removed]",
      "text/plain": [
       "<IPython.core.display.Image object>"
      ]
     },
     "metadata": {},
     "output_type": "display_data"
    },
    {
     "name": "stdout",
     "output_type": "stream",
     "text": [
      "Original Paired Earcon 10:\n"
     ]
    },
    {
     "data": {
      "text/html": [
       "\n",
       "                <audio  controls=\"controls\" >\n",
       "                    <source src=\"data:audio/wav;base64,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\" type=\"audio/wav\" />\n",
       "                    Your browser does not support the audio element.\n",
       "                </audio>\n",
       "              "
      ],
      "text/plain": [
       "<IPython.lib.display.Audio object>"
      ]
     },
     "metadata": {},
     "output_type": "display_data"
    },
    {
     "name": "stdout",
     "output_type": "stream",
     "text": [
      "Generated Earcon 10:\n"
     ]
    },
    {
     "data": {
      "text/html": [
       "\n",
       "                <audio  controls=\"controls\" >\n",
       "                    <source src=\"data:audio/wav;base64,UklGRiQEAABXQVZFZm10IBAAAAABAAEAwF0AAIC7AAACABAAZGF0YQAEAACQF/8ZQBqcIoMpsCy3LMAyojJIJzAX7gjj/bvwwOii5JffsNx03zDjKeaI7tn6rf+K9yzpl91K0MbB3rQutafJw++tEfsdthdaCLbxBeIM698EHR5RKkolbhSICA4KLw5PDGIGeP9l/l4ATACZAuYR+hSiB/L3u+6s5zXsZ+wG4mfUUsbEwlfH489F2ZzgKeXx4UrV18M+uFq6VMcD16Hf0N9w2DXKlruruJi/SM0D4BPjU9ky0dnZg/O9EqIm+CP9CZ7l3MYptkmybLeFvqTHZcaAvsC4E60ynqCUJZUWmnmitacaq5SxzMEhzZnS7s/Jxj+7bbhaxuLbe+x48fLrLeEn0zDPpddT5s/wzu5H3hfFP7RtqGqiOJaGjeiMG5E0m+Ckb6JxkmSCAYAKjcqcJ6KSn0Ger5ymnVOiLK4EwSfVM+MX6brlINwF08HJWMtKzwjRCst7vIWrsJ+knRyk/bJlwUvCerncrmyk+p6PqMS4ZcH1yajWxuC64J7VRMROte6yorxpzu3ibfT5+zj2vev/5/Dm69tR0+HYyuQW5i3aTsrmwPXBM8043qXrq/Ln8Q/mM9A/ujm61cEAx9jAn6rMkB2Ic475mA2hYai7qlup/6rftQ7K3t0S6SXjstXWxtG8n73Bww3FxMXxy1rWP+I+76n3QPYT7brqiezE7GbnHeWQ46XefddL1WjPlMhgwzK9D7vOwVrI88h6yIjCU7z1vuHONODN4HLSTL5pqymeAaCcrAe+psALvLG9DMdc0lnW6sftrBOXW5Ftma2ya9Bn5z/tPOP02DXd0OaU7p7rmtroy4zE08or1GzeTdxb1P3HcL60v0PO/uOQ9h8ApPxX8/bo1ugU79n7OgXuAwD8S+7j3sTa++KX7Q3zs/U59L7pu9fWyU3I49St5y72d/y9AV4SlCf8NBQ1NDVVKO4MM/k79Nj97guCF0sSkf6p57vgL+gd87X33vV/7j/lmuVf7Fboyti/x1K/z8EzzCLYu90J1+/HI7mEsOy9D81l4IT0PwDiAN/xDNy2ugOnx57FqMbBF+IlBfwgRy5YNPIpvxRY/YXkRM5zwjPCusZBy5XSS92o51zts+uE5OzfDOJU6OfoBeIJzymxu5THj+ajmLxRyc/EkrM5oEyUt5U8m+uafZBvhxCNf57ksHjA8Mwq0dbKf8QKzKTgWu9o6eDX08rOw+LEMs1g1zPa4tOCyajDocjy0V7RwckuyODM8tDJ0CHRntdr4eDnIOZH3aTXCdQD1ALd1uNz4g7WicpLxcTIhNXo2+DZyMrMs/6b349Imkq2ZM6O1JbKnrrRqgulU6KesN29KNHc3VXijNtKzk3UIeSP97b/CPYD5+3j\" type=\"audio/wav\" />\n",
       "                    Your browser does not support the audio element.\n",
       "                </audio>\n",
       "              "
      ],
      "text/plain": [
       "<IPython.lib.display.Audio object>"
      ]
     },
     "metadata": {},
     "output_type": "display_data"
    }
   ],
   "source": [
    "# display the images and play the audio for every pair\n",
    "for i in range(len(elements)):\n",
    "    # display image\n",
    "    print(f\"Image {i+1}:\")\n",
    "    display_image(test_df[\"image_filepath\"].iloc[elements[i]])\n",
    "    # play paired earcon\n",
    "    print(f\"Original Paired Earcon {i+1}:\")\n",
    "    play_audio(test_df[\"earcon_filepath\"].iloc[elements[i]])\n",
    "    # play generated earcon\n",
    "    print(f\"Generated Earcon {i+1}:\")\n",
    "    play_generated_audio(audio_list[i])"
   ]
  }
 ],
 "metadata": {
  "kernelspec": {
   "display_name": "fyp",
   "language": "python",
   "name": "python3"
  },
  "language_info": {
   "codemirror_mode": {
    "name": "ipython",
    "version": 3
   },
   "file_extension": ".py",
   "mimetype": "text/x-python",
   "name": "python",
   "nbconvert_exporter": "python",
   "pygments_lexer": "ipython3",
   "version": "3.11.10"
  }
 },
 "nbformat": 4,
 "nbformat_minor": 2
}

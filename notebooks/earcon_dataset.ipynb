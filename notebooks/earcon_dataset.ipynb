{
 "cells": [
  {
   "cell_type": "markdown",
   "metadata": {},
   "source": [
    "# Earcon Dataset Exploration\n",
    "\n",
    "This notebook helps to explore and clean up the earcon dataset to see what is suitable for us to use\n",
    "\n",
    "Details:\\\n",
    "Total: 3488 rows, 462 columns\\\n",
    "Earcons: 647 rows, 462 columns"
   ]
  },
  {
   "cell_type": "code",
   "execution_count": 1,
   "metadata": {},
   "outputs": [],
   "source": [
    "# imports\n",
    "import pandas as pd\n",
    "import os"
   ]
  },
  {
   "cell_type": "code",
   "execution_count": 10,
   "metadata": {},
   "outputs": [],
   "source": [
    "# setup\n",
    "\n",
    "IMPORT_NEW = False"
   ]
  },
  {
   "cell_type": "markdown",
   "metadata": {},
   "source": [
    "## Importing data"
   ]
  },
  {
   "cell_type": "code",
   "execution_count": null,
   "metadata": {},
   "outputs": [],
   "source": [
    "# import new data and process\n",
    "if IMPORT_NEW:\n",
    "    files = [\n",
    "        \"../dataset/earcon_dataset/bright_dark_earcon.xlsx\",\n",
    "        \"../dataset/earcon_dataset/bright.xlsx\",\n",
    "        \"../dataset/earcon_dataset/cold.xlsx\",\n",
    "        \"../dataset/earcon_dataset/correct.xlsx\",\n",
    "        \"../dataset/earcon_dataset/curved.xlsx\",\n",
    "        \"../dataset/earcon_dataset/dark.xlsx\",\n",
    "        \"../dataset/earcon_dataset/dull.xlsx\",\n",
    "        \"../dataset/earcon_dataset/flat.xlsx\",\n",
    "        \"../dataset/earcon_dataset/incorrect_correct_earcon.xlsx\",\n",
    "        \"../dataset/earcon_dataset/incorrect.xlsx\",\n",
    "        \"../dataset/earcon_dataset/sharp.xlsx\",\n",
    "        \"../dataset/earcon_dataset/warm.xlsx\",\n",
    "    ]\n",
    "    \n",
    "    data = pd.DataFrame()\n",
    "    for file in files:\n",
    "        data = data._append(pd.read_excel(file))\n",
    "    \n",
    "    data.reset_index(drop=True, inplace=True)\n",
    "    data = data[data['category'] == 1]\n",
    "    data.to_excel(\"../dataset/earcon_dataset/earcon_dataset.xlsx\")\n",
    "    \n",
    "\n",
    "# import existing processed data\n",
    "file = \"../dataset/earcon_dataset/earcon_dataset.xlsx\"\n",
    "data = pd.read_excel(file)\n",
    "data"
   ]
  }
 ],
 "metadata": {
  "kernelspec": {
   "display_name": "Python 3",
   "language": "python",
   "name": "python3"
  },
  "language_info": {
   "codemirror_mode": {
    "name": "ipython",
    "version": 3
   },
   "file_extension": ".py",
   "mimetype": "text/x-python",
   "name": "python",
   "nbconvert_exporter": "python",
   "pygments_lexer": "ipython3",
   "version": "3.11.9"
  }
 },
 "nbformat": 4,
 "nbformat_minor": 2
}
